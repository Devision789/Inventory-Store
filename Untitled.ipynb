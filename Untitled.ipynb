{
 "cells": [
  {
   "cell_type": "code",
   "execution_count": 1,
   "id": "5be60303-c55a-45e0-9a44-9c5e97511247",
   "metadata": {},
   "outputs": [
    {
     "name": "stdout",
     "output_type": "stream",
     "text": [
      "Sun Aug 25 10:28:17 2024       \n",
      "+-----------------------------------------------------------------------------------------+\n",
      "| NVIDIA-SMI 560.81                 Driver Version: 560.81         CUDA Version: 12.6     |\n",
      "|-----------------------------------------+------------------------+----------------------+\n",
      "| GPU  Name                  Driver-Model | Bus-Id          Disp.A | Volatile Uncorr. ECC |\n",
      "| Fan  Temp   Perf          Pwr:Usage/Cap |           Memory-Usage | GPU-Util  Compute M. |\n",
      "|                                         |                        |               MIG M. |\n",
      "|=========================================+========================+======================|\n",
      "|   0  NVIDIA GeForce RTX 3080 Ti   WDDM  |   00000000:09:00.0  On |                  N/A |\n",
      "| 86%   59C    P2            254W /  350W |    4244MiB /  12288MiB |     60%      Default |\n",
      "|                                         |                        |                  N/A |\n",
      "+-----------------------------------------+------------------------+----------------------+\n",
      "                                                                                         \n",
      "+-----------------------------------------------------------------------------------------+\n",
      "| Processes:                                                                              |\n",
      "|  GPU   GI   CI        PID   Type   Process name                              GPU Memory |\n",
      "|        ID   ID                                                               Usage      |\n",
      "|=========================================================================================|\n",
      "|    0   N/A  N/A      2536      C   C:\\Users\\NCPC\\anaconda3\\python.exe          N/A      |\n",
      "|    0   N/A  N/A      8744    C+G   ...siveControlPanel\\SystemSettings.exe      N/A      |\n",
      "|    0   N/A  N/A      9352    C+G   C:\\Windows\\explorer.exe                     N/A      |\n",
      "|    0   N/A  N/A     11064    C+G   ...2txyewy\\StartMenuExperienceHost.exe      N/A      |\n",
      "|    0   N/A  N/A     12044    C+G   ....Search_cw5n1h2txyewy\\SearchApp.exe      N/A      |\n",
      "|    0   N/A  N/A     13072    C+G   ...5n1h2txyewy\\ShellExperienceHost.exe      N/A      |\n",
      "|    0   N/A  N/A     13148    C+G   ...CBS_cw5n1h2txyewy\\TextInputHost.exe      N/A      |\n",
      "|    0   N/A  N/A     14824    C+G   ...t.LockApp_cw5n1h2txyewy\\LockApp.exe      N/A      |\n",
      "|    0   N/A  N/A     15132    C+G   ...ekyb3d8bbwe\\PhoneExperienceHost.exe      N/A      |\n",
      "|    0   N/A  N/A     16616    C+G   ...n\\127.0.2651.105\\msedgewebview2.exe      N/A      |\n",
      "|    0   N/A  N/A     16636    C+G   ...GeForce Experience\\NVIDIA Share.exe      N/A      |\n",
      "|    0   N/A  N/A     19364    C+G   ...cal\\Microsoft\\OneDrive\\OneDrive.exe      N/A      |\n",
      "|    0   N/A  N/A     19652    C+G   ...crosoft\\Edge\\Application\\msedge.exe      N/A      |\n",
      "|    0   N/A  N/A     21320    C+G   ...oogle\\Chrome\\Application\\chrome.exe      N/A      |\n",
      "|    0   N/A  N/A     21512    C+G   ...Coc\\Browser\\Application\\browser.exe      N/A      |\n",
      "|    0   N/A  N/A     24220    C+G   ....Search_cw5n1h2txyewy\\SearchApp.exe      N/A      |\n",
      "|    0   N/A  N/A     26964    C+G   ...oogle\\Chrome\\Application\\chrome.exe      N/A      |\n",
      "|    0   N/A  N/A     27468    C+G   ...ns\\PyCharm 2024.2\\bin\\pycharm64.exe      N/A      |\n",
      "+-----------------------------------------------------------------------------------------+\n"
     ]
    }
   ],
   "source": [
    "!nvidia-smi"
   ]
  },
  {
   "cell_type": "code",
   "execution_count": 2,
   "id": "61fc554d-a2d2-4d73-bc29-661792098ba7",
   "metadata": {},
   "outputs": [
    {
     "name": "stdout",
     "output_type": "stream",
     "text": [
      "Looking in indexes: https://download.pytorch.org/whl/cu124\n",
      "Requirement already satisfied: torch in c:\\users\\ncpc\\desktop\\python311\\lib\\site-packages (2.4.0+cu124)\n",
      "Requirement already satisfied: torchvision in c:\\users\\ncpc\\desktop\\python311\\lib\\site-packages (0.19.0+cu124)\n",
      "Requirement already satisfied: torchaudio in c:\\users\\ncpc\\desktop\\python311\\lib\\site-packages (2.4.0+cu124)\n",
      "Requirement already satisfied: filelock in c:\\users\\ncpc\\desktop\\python311\\lib\\site-packages (from torch) (3.13.1)\n",
      "Requirement already satisfied: typing-extensions>=4.8.0 in c:\\users\\ncpc\\desktop\\python311\\lib\\site-packages (from torch) (4.12.2)\n",
      "Requirement already satisfied: sympy in c:\\users\\ncpc\\desktop\\python311\\lib\\site-packages (from torch) (1.12)\n",
      "Requirement already satisfied: networkx in c:\\users\\ncpc\\desktop\\python311\\lib\\site-packages (from torch) (3.2.1)\n",
      "Requirement already satisfied: jinja2 in c:\\users\\ncpc\\desktop\\python311\\lib\\site-packages (from torch) (3.1.4)\n",
      "Requirement already satisfied: fsspec in c:\\users\\ncpc\\desktop\\python311\\lib\\site-packages (from torch) (2024.2.0)\n",
      "Requirement already satisfied: numpy in c:\\users\\ncpc\\desktop\\python311\\lib\\site-packages (from torchvision) (1.26.3)\n",
      "Requirement already satisfied: pillow!=8.3.*,>=5.3.0 in c:\\users\\ncpc\\desktop\\python311\\lib\\site-packages (from torchvision) (10.2.0)\n",
      "Requirement already satisfied: MarkupSafe>=2.0 in c:\\users\\ncpc\\desktop\\python311\\lib\\site-packages (from jinja2->torch) (2.1.5)\n",
      "Requirement already satisfied: mpmath>=0.19 in c:\\users\\ncpc\\desktop\\python311\\lib\\site-packages (from sympy->torch) (1.3.0)\n"
     ]
    },
    {
     "name": "stderr",
     "output_type": "stream",
     "text": [
      "\n",
      "[notice] A new release of pip available: 22.3 -> 24.2\n",
      "[notice] To update, run: python.exe -m pip install --upgrade pip\n"
     ]
    }
   ],
   "source": [
    "!pip install torch torchvision torchaudio --index-url https://download.pytorch.org/whl/cu124"
   ]
  },
  {
   "cell_type": "code",
   "execution_count": 3,
   "id": "4744d5fa-6a03-4b29-b964-5cc9f0998f57",
   "metadata": {},
   "outputs": [
    {
     "name": "stdout",
     "output_type": "stream",
     "text": [
      "Requirement already satisfied: ultralytics in c:\\users\\ncpc\\desktop\\python311\\lib\\site-packages (8.2.81)\n",
      "Requirement already satisfied: numpy<2.0.0,>=1.23.0 in c:\\users\\ncpc\\desktop\\python311\\lib\\site-packages (from ultralytics) (1.26.3)\n",
      "Requirement already satisfied: matplotlib>=3.3.0 in c:\\users\\ncpc\\desktop\\python311\\lib\\site-packages (from ultralytics) (3.9.2)\n",
      "Requirement already satisfied: opencv-python>=4.6.0 in c:\\users\\ncpc\\desktop\\python311\\lib\\site-packages (from ultralytics) (4.10.0.84)\n",
      "Requirement already satisfied: pillow>=7.1.2 in c:\\users\\ncpc\\desktop\\python311\\lib\\site-packages (from ultralytics) (10.2.0)\n",
      "Requirement already satisfied: pyyaml>=5.3.1 in c:\\users\\ncpc\\desktop\\python311\\lib\\site-packages (from ultralytics) (6.0.2)\n",
      "Requirement already satisfied: requests>=2.23.0 in c:\\users\\ncpc\\desktop\\python311\\lib\\site-packages (from ultralytics) (2.32.3)\n",
      "Requirement already satisfied: scipy>=1.4.1 in c:\\users\\ncpc\\desktop\\python311\\lib\\site-packages (from ultralytics) (1.14.1)\n",
      "Requirement already satisfied: torch>=1.8.0 in c:\\users\\ncpc\\desktop\\python311\\lib\\site-packages (from ultralytics) (2.4.0+cu124)\n",
      "Requirement already satisfied: torchvision>=0.9.0 in c:\\users\\ncpc\\desktop\\python311\\lib\\site-packages (from ultralytics) (0.19.0+cu124)\n",
      "Requirement already satisfied: tqdm>=4.64.0 in c:\\users\\ncpc\\desktop\\python311\\lib\\site-packages (from ultralytics) (4.66.5)\n",
      "Requirement already satisfied: psutil in c:\\users\\ncpc\\desktop\\python311\\lib\\site-packages (from ultralytics) (6.0.0)\n",
      "Requirement already satisfied: py-cpuinfo in c:\\users\\ncpc\\desktop\\python311\\lib\\site-packages (from ultralytics) (9.0.0)\n",
      "Requirement already satisfied: pandas>=1.1.4 in c:\\users\\ncpc\\desktop\\python311\\lib\\site-packages (from ultralytics) (2.2.2)\n",
      "Requirement already satisfied: seaborn>=0.11.0 in c:\\users\\ncpc\\desktop\\python311\\lib\\site-packages (from ultralytics) (0.13.2)\n",
      "Requirement already satisfied: ultralytics-thop>=2.0.0 in c:\\users\\ncpc\\desktop\\python311\\lib\\site-packages (from ultralytics) (2.0.5)\n",
      "Requirement already satisfied: contourpy>=1.0.1 in c:\\users\\ncpc\\desktop\\python311\\lib\\site-packages (from matplotlib>=3.3.0->ultralytics) (1.2.1)\n",
      "Requirement already satisfied: cycler>=0.10 in c:\\users\\ncpc\\desktop\\python311\\lib\\site-packages (from matplotlib>=3.3.0->ultralytics) (0.12.1)\n",
      "Requirement already satisfied: fonttools>=4.22.0 in c:\\users\\ncpc\\desktop\\python311\\lib\\site-packages (from matplotlib>=3.3.0->ultralytics) (4.53.1)\n",
      "Requirement already satisfied: kiwisolver>=1.3.1 in c:\\users\\ncpc\\desktop\\python311\\lib\\site-packages (from matplotlib>=3.3.0->ultralytics) (1.4.5)\n",
      "Requirement already satisfied: packaging>=20.0 in c:\\users\\ncpc\\desktop\\python311\\lib\\site-packages (from matplotlib>=3.3.0->ultralytics) (24.1)\n",
      "Requirement already satisfied: pyparsing>=2.3.1 in c:\\users\\ncpc\\desktop\\python311\\lib\\site-packages (from matplotlib>=3.3.0->ultralytics) (3.1.2)\n",
      "Requirement already satisfied: python-dateutil>=2.7 in c:\\users\\ncpc\\desktop\\python311\\lib\\site-packages (from matplotlib>=3.3.0->ultralytics) (2.9.0.post0)\n",
      "Requirement already satisfied: pytz>=2020.1 in c:\\users\\ncpc\\desktop\\python311\\lib\\site-packages (from pandas>=1.1.4->ultralytics) (2024.1)\n",
      "Requirement already satisfied: tzdata>=2022.7 in c:\\users\\ncpc\\desktop\\python311\\lib\\site-packages (from pandas>=1.1.4->ultralytics) (2024.1)\n",
      "Requirement already satisfied: charset-normalizer<4,>=2 in c:\\users\\ncpc\\desktop\\python311\\lib\\site-packages (from requests>=2.23.0->ultralytics) (3.3.2)\n",
      "Requirement already satisfied: idna<4,>=2.5 in c:\\users\\ncpc\\desktop\\python311\\lib\\site-packages (from requests>=2.23.0->ultralytics) (3.7)\n",
      "Requirement already satisfied: urllib3<3,>=1.21.1 in c:\\users\\ncpc\\desktop\\python311\\lib\\site-packages (from requests>=2.23.0->ultralytics) (2.2.2)\n",
      "Requirement already satisfied: certifi>=2017.4.17 in c:\\users\\ncpc\\desktop\\python311\\lib\\site-packages (from requests>=2.23.0->ultralytics) (2024.7.4)\n",
      "Requirement already satisfied: filelock in c:\\users\\ncpc\\desktop\\python311\\lib\\site-packages (from torch>=1.8.0->ultralytics) (3.13.1)\n",
      "Requirement already satisfied: typing-extensions>=4.8.0 in c:\\users\\ncpc\\desktop\\python311\\lib\\site-packages (from torch>=1.8.0->ultralytics) (4.12.2)\n",
      "Requirement already satisfied: sympy in c:\\users\\ncpc\\desktop\\python311\\lib\\site-packages (from torch>=1.8.0->ultralytics) (1.12)\n",
      "Requirement already satisfied: networkx in c:\\users\\ncpc\\desktop\\python311\\lib\\site-packages (from torch>=1.8.0->ultralytics) (3.2.1)\n",
      "Requirement already satisfied: jinja2 in c:\\users\\ncpc\\desktop\\python311\\lib\\site-packages (from torch>=1.8.0->ultralytics) (3.1.4)\n",
      "Requirement already satisfied: fsspec in c:\\users\\ncpc\\desktop\\python311\\lib\\site-packages (from torch>=1.8.0->ultralytics) (2024.2.0)\n",
      "Requirement already satisfied: colorama in c:\\users\\ncpc\\desktop\\python311\\lib\\site-packages (from tqdm>=4.64.0->ultralytics) (0.4.6)\n",
      "Requirement already satisfied: six>=1.5 in c:\\users\\ncpc\\desktop\\python311\\lib\\site-packages (from python-dateutil>=2.7->matplotlib>=3.3.0->ultralytics) (1.16.0)\n",
      "Requirement already satisfied: MarkupSafe>=2.0 in c:\\users\\ncpc\\desktop\\python311\\lib\\site-packages (from jinja2->torch>=1.8.0->ultralytics) (2.1.5)\n",
      "Requirement already satisfied: mpmath>=0.19 in c:\\users\\ncpc\\desktop\\python311\\lib\\site-packages (from sympy->torch>=1.8.0->ultralytics) (1.3.0)\n"
     ]
    },
    {
     "name": "stderr",
     "output_type": "stream",
     "text": [
      "\n",
      "[notice] A new release of pip available: 22.3 -> 24.2\n",
      "[notice] To update, run: python.exe -m pip install --upgrade pip\n"
     ]
    }
   ],
   "source": [
    "!pip install ultralytics"
   ]
  },
  {
   "cell_type": "code",
   "execution_count": null,
   "id": "285e63ff-4f1b-4ca0-922e-59edbe0d936c",
   "metadata": {},
   "outputs": [],
   "source": []
  },
  {
   "cell_type": "code",
   "execution_count": 4,
   "id": "d1656725-7059-4eb3-8511-0fdc4b82b363",
   "metadata": {},
   "outputs": [],
   "source": [
    "from ultralytics import YOLO\n",
    "\n",
    "from IPython.display import display, Image"
   ]
  },
  {
   "cell_type": "code",
   "execution_count": 5,
   "id": "e41cb3cb-27a5-40ba-bb86-b3400ef39b89",
   "metadata": {},
   "outputs": [
    {
     "name": "stdout",
     "output_type": "stream",
     "text": [
      "Requirement already satisfied: roboflow in c:\\users\\ncpc\\desktop\\python311\\lib\\site-packages (1.1.42)\n",
      "Requirement already satisfied: certifi in c:\\users\\ncpc\\desktop\\python311\\lib\\site-packages (from roboflow) (2024.7.4)\n",
      "Requirement already satisfied: idna==3.7 in c:\\users\\ncpc\\desktop\\python311\\lib\\site-packages (from roboflow) (3.7)\n",
      "Requirement already satisfied: cycler in c:\\users\\ncpc\\desktop\\python311\\lib\\site-packages (from roboflow) (0.12.1)\n",
      "Requirement already satisfied: kiwisolver>=1.3.1 in c:\\users\\ncpc\\desktop\\python311\\lib\\site-packages (from roboflow) (1.4.5)\n",
      "Requirement already satisfied: matplotlib in c:\\users\\ncpc\\desktop\\python311\\lib\\site-packages (from roboflow) (3.9.2)\n",
      "Requirement already satisfied: numpy>=1.18.5 in c:\\users\\ncpc\\desktop\\python311\\lib\\site-packages (from roboflow) (1.26.3)\n",
      "Requirement already satisfied: opencv-python-headless==4.10.0.84 in c:\\users\\ncpc\\desktop\\python311\\lib\\site-packages (from roboflow) (4.10.0.84)\n",
      "Requirement already satisfied: Pillow>=7.1.2 in c:\\users\\ncpc\\desktop\\python311\\lib\\site-packages (from roboflow) (10.2.0)\n",
      "Requirement already satisfied: python-dateutil in c:\\users\\ncpc\\desktop\\python311\\lib\\site-packages (from roboflow) (2.9.0.post0)\n",
      "Requirement already satisfied: python-dotenv in c:\\users\\ncpc\\desktop\\python311\\lib\\site-packages (from roboflow) (1.0.1)\n",
      "Requirement already satisfied: requests in c:\\users\\ncpc\\desktop\\python311\\lib\\site-packages (from roboflow) (2.32.3)\n",
      "Requirement already satisfied: six in c:\\users\\ncpc\\desktop\\python311\\lib\\site-packages (from roboflow) (1.16.0)\n",
      "Requirement already satisfied: urllib3>=1.26.6 in c:\\users\\ncpc\\desktop\\python311\\lib\\site-packages (from roboflow) (2.2.2)\n",
      "Requirement already satisfied: tqdm>=4.41.0 in c:\\users\\ncpc\\desktop\\python311\\lib\\site-packages (from roboflow) (4.66.5)\n",
      "Requirement already satisfied: PyYAML>=5.3.1 in c:\\users\\ncpc\\desktop\\python311\\lib\\site-packages (from roboflow) (6.0.2)\n",
      "Requirement already satisfied: requests-toolbelt in c:\\users\\ncpc\\desktop\\python311\\lib\\site-packages (from roboflow) (1.0.0)\n",
      "Requirement already satisfied: filetype in c:\\users\\ncpc\\desktop\\python311\\lib\\site-packages (from roboflow) (1.2.0)\n",
      "Requirement already satisfied: colorama in c:\\users\\ncpc\\desktop\\python311\\lib\\site-packages (from tqdm>=4.41.0->roboflow) (0.4.6)\n",
      "Requirement already satisfied: contourpy>=1.0.1 in c:\\users\\ncpc\\desktop\\python311\\lib\\site-packages (from matplotlib->roboflow) (1.2.1)\n",
      "Requirement already satisfied: fonttools>=4.22.0 in c:\\users\\ncpc\\desktop\\python311\\lib\\site-packages (from matplotlib->roboflow) (4.53.1)\n",
      "Requirement already satisfied: packaging>=20.0 in c:\\users\\ncpc\\desktop\\python311\\lib\\site-packages (from matplotlib->roboflow) (24.1)\n",
      "Requirement already satisfied: pyparsing>=2.3.1 in c:\\users\\ncpc\\desktop\\python311\\lib\\site-packages (from matplotlib->roboflow) (3.1.2)\n",
      "Requirement already satisfied: charset-normalizer<4,>=2 in c:\\users\\ncpc\\desktop\\python311\\lib\\site-packages (from requests->roboflow) (3.3.2)\n"
     ]
    },
    {
     "name": "stderr",
     "output_type": "stream",
     "text": [
      "\n",
      "[notice] A new release of pip available: 22.3 -> 24.2\n",
      "[notice] To update, run: python.exe -m pip install --upgrade pip\n"
     ]
    },
    {
     "name": "stdout",
     "output_type": "stream",
     "text": [
      "loading Roboflow workspace...\n",
      "loading Roboflow project...\n"
     ]
    },
    {
     "name": "stderr",
     "output_type": "stream",
     "text": [
      "Downloading Dataset Version Zip in Beverage-Containers-1 to yolov8-obb:: 100%|█| 682825/682825 [01:02<00:00, 10864.58it"
     ]
    },
    {
     "name": "stdout",
     "output_type": "stream",
     "text": [
      "\n"
     ]
    },
    {
     "name": "stderr",
     "output_type": "stream",
     "text": [
      "\n",
      "Extracting Dataset Version Zip to Beverage-Containers-1 in yolov8-obb:: 100%|██| 31300/31300 [00:12<00:00, 2479.25it/s]\n"
     ]
    }
   ],
   "source": [
    "!pip install roboflow\n",
    "\n",
    "from roboflow import Roboflow\n",
    "rf = Roboflow(api_key=\"7n8iverVNGvKnMXYP16t\")\n",
    "project = rf.workspace(\"test-p9gmt\").project(\"beverage-containers-3atxb-dhpbi\")\n",
    "version = project.version(1)\n",
    "dataset = version.download(\"yolov8-obb\")\n",
    "                "
   ]
  },
  {
   "cell_type": "code",
   "execution_count": 13,
   "id": "16d42fe9-caf2-46ac-a03f-3d92abd1b12e",
   "metadata": {},
   "outputs": [
    {
     "name": "stdout",
     "output_type": "stream",
     "text": [
      "New https://pypi.org/project/ultralytics/8.2.82 available  Update with 'pip install -U ultralytics'\n",
      "Ultralytics YOLOv8.2.81  Python-3.11.0 torch-2.4.0+cu124 CUDA:0 (NVIDIA GeForce RTX 3080 Ti, 12288MiB)\n",
      "\u001b[34m\u001b[1mengine\\trainer: \u001b[0mtask=obb, mode=train, model=last.pt, data=Beverage-Containers-1/data.yaml, epochs=100, time=None, patience=100, batch=16, imgsz=640, save=True, save_period=-1, cache=False, device=0, workers=8, project=None, name=train6, exist_ok=False, pretrained=True, optimizer=auto, verbose=True, seed=0, deterministic=True, single_cls=False, rect=False, cos_lr=False, close_mosaic=10, resume=last.pt, amp=True, fraction=1.0, profile=False, freeze=None, multi_scale=False, overlap_mask=True, mask_ratio=4, dropout=0.0, val=True, split=val, save_json=False, save_hybrid=False, conf=None, iou=0.7, max_det=300, half=False, dnn=False, plots=True, source=None, vid_stride=1, stream_buffer=False, visualize=False, augment=False, agnostic_nms=False, classes=None, retina_masks=False, embed=None, show=False, save_frames=False, save_txt=False, save_conf=False, save_crop=False, show_labels=True, show_conf=True, show_boxes=True, line_width=None, format=torchscript, keras=False, optimize=False, int8=False, dynamic=False, simplify=False, opset=None, workspace=4, nms=False, lr0=0.01, lrf=0.01, momentum=0.937, weight_decay=0.0005, warmup_epochs=3.0, warmup_momentum=0.8, warmup_bias_lr=0.0, box=7.5, cls=0.5, dfl=1.5, pose=12.0, kobj=1.0, label_smoothing=0.0, nbs=64, hsv_h=0.015, hsv_s=0.7, hsv_v=0.4, degrees=0.0, translate=0.1, scale=0.5, shear=0.0, perspective=0.0, flipud=0.0, fliplr=0.5, bgr=0.0, mosaic=1.0, mixup=0.0, copy_paste=0.0, auto_augment=randaugment, erasing=0.4, crop_fraction=1.0, cfg=None, tracker=botsort.yaml, save_dir=runs\\obb\\train6\n",
      "\u001b[34m\u001b[1mTensorBoard: \u001b[0mStart with 'tensorboard --logdir runs\\obb\\train6', view at http://localhost:6006/\n",
      "\n",
      "                   from  n    params  module                                       arguments                     \n",
      "  0                  -1  1       464  ultralytics.nn.modules.conv.Conv             [3, 16, 3, 2]                 \n",
      "  1                  -1  1      4672  ultralytics.nn.modules.conv.Conv             [16, 32, 3, 2]                \n",
      "  2                  -1  1      7360  ultralytics.nn.modules.block.C2f             [32, 32, 1, True]             \n",
      "  3                  -1  1     18560  ultralytics.nn.modules.conv.Conv             [32, 64, 3, 2]                \n",
      "  4                  -1  2     49664  ultralytics.nn.modules.block.C2f             [64, 64, 2, True]             \n",
      "  5                  -1  1     73984  ultralytics.nn.modules.conv.Conv             [64, 128, 3, 2]               \n",
      "  6                  -1  2    197632  ultralytics.nn.modules.block.C2f             [128, 128, 2, True]           \n",
      "  7                  -1  1    295424  ultralytics.nn.modules.conv.Conv             [128, 256, 3, 2]              \n",
      "  8                  -1  1    460288  ultralytics.nn.modules.block.C2f             [256, 256, 1, True]           \n",
      "  9                  -1  1    164608  ultralytics.nn.modules.block.SPPF            [256, 256, 5]                 \n",
      " 10                  -1  1         0  torch.nn.modules.upsampling.Upsample         [None, 2, 'nearest']          \n",
      " 11             [-1, 6]  1         0  ultralytics.nn.modules.conv.Concat           [1]                           \n",
      " 12                  -1  1    148224  ultralytics.nn.modules.block.C2f             [384, 128, 1]                 \n",
      " 13                  -1  1         0  torch.nn.modules.upsampling.Upsample         [None, 2, 'nearest']          \n",
      " 14             [-1, 4]  1         0  ultralytics.nn.modules.conv.Concat           [1]                           \n",
      " 15                  -1  1     37248  ultralytics.nn.modules.block.C2f             [192, 64, 1]                  \n",
      " 16                  -1  1     36992  ultralytics.nn.modules.conv.Conv             [64, 64, 3, 2]                \n",
      " 17            [-1, 12]  1         0  ultralytics.nn.modules.conv.Concat           [1]                           \n",
      " 18                  -1  1    123648  ultralytics.nn.modules.block.C2f             [192, 128, 1]                 \n",
      " 19                  -1  1    147712  ultralytics.nn.modules.conv.Conv             [128, 128, 3, 2]              \n",
      " 20             [-1, 9]  1         0  ultralytics.nn.modules.conv.Concat           [1]                           \n",
      " 21                  -1  1    493056  ultralytics.nn.modules.block.C2f             [384, 256, 1]                 \n",
      " 22        [15, 18, 21]  1    824734  ultralytics.nn.modules.head.OBB              [9, 1, [64, 128, 256]]        \n",
      "YOLOv8n-obb summary: 250 layers, 3,084,270 parameters, 3,084,254 gradients, 8.5 GFLOPs\n",
      "\n",
      "Transferred 397/397 items from pretrained weights\n",
      "Freezing layer 'model.22.dfl.conv.weight'\n",
      "\u001b[34m\u001b[1mAMP: \u001b[0mrunning Automatic Mixed Precision (AMP) checks with YOLOv8n...\n",
      "\u001b[34m\u001b[1mAMP: \u001b[0mchecks passed \n"
     ]
    },
    {
     "name": "stderr",
     "output_type": "stream",
     "text": [
      "\u001b[34m\u001b[1mtrain: \u001b[0mScanning C:\\Users\\NCPC\\chainhua\\Beverage-Containers-1\\train\\labels.cache... 13688 images, 0 backgrounds, 0 corru\u001b[0m\n",
      "\u001b[34m\u001b[1mval: \u001b[0mScanning C:\\Users\\NCPC\\chainhua\\Beverage-Containers-1\\valid\\labels.cache... 1303 images, 0 backgrounds, 0 corrupt:\u001b[0m\n"
     ]
    },
    {
     "name": "stdout",
     "output_type": "stream",
     "text": [
      "Plotting labels to runs\\obb\\train6\\labels.jpg... \n",
      "\u001b[34m\u001b[1moptimizer:\u001b[0m 'optimizer=auto' found, ignoring 'lr0=0.01' and 'momentum=0.937' and determining best 'optimizer', 'lr0' and 'momentum' automatically... \n",
      "\u001b[34m\u001b[1moptimizer:\u001b[0m SGD(lr=0.01, momentum=0.9) with parameter groups 63 weight(decay=0.0), 73 weight(decay=0.0005), 72 bias(decay=0.0)\n",
      "Resuming training last.pt from epoch 36 to 100 total epochs\n",
      "\u001b[34m\u001b[1mTensorBoard: \u001b[0mmodel graph visualization added \n",
      "Image sizes 640 train, 640 val\n",
      "Using 8 dataloader workers\n",
      "Logging results to \u001b[1mruns\\obb\\train6\u001b[0m\n",
      "Starting training for 100 epochs...\n",
      "\n",
      "      Epoch    GPU_mem   box_loss   cls_loss   dfl_loss  Instances       Size\n"
     ]
    },
    {
     "name": "stderr",
     "output_type": "stream",
     "text": [
      "     36/100      2.28G     0.6325      0.822      2.228         35        640: 100%|██████████| 856/856 [01:48<00:00,  \n",
      "                 Class     Images  Instances      Box(P          R      mAP50  mAP50-95): 100%|██████████| 82/82 [00:14"
     ]
    },
    {
     "name": "stdout",
     "output_type": "stream",
     "text": [
      "                   all       1303       1924      0.906      0.853      0.934      0.862\n"
     ]
    },
    {
     "name": "stderr",
     "output_type": "stream",
     "text": [
      "\n"
     ]
    },
    {
     "name": "stdout",
     "output_type": "stream",
     "text": [
      "\n",
      "      Epoch    GPU_mem   box_loss   cls_loss   dfl_loss  Instances       Size\n"
     ]
    },
    {
     "name": "stderr",
     "output_type": "stream",
     "text": [
      "     37/100      2.24G     0.6343      0.825      2.245         22        640: 100%|██████████| 856/856 [01:47<00:00,  \n",
      "                 Class     Images  Instances      Box(P          R      mAP50  mAP50-95): 100%|██████████| 82/82 [00:13"
     ]
    },
    {
     "name": "stdout",
     "output_type": "stream",
     "text": [
      "                   all       1303       1924      0.899      0.859      0.929      0.858\n"
     ]
    },
    {
     "name": "stderr",
     "output_type": "stream",
     "text": [
      "\n"
     ]
    },
    {
     "name": "stdout",
     "output_type": "stream",
     "text": [
      "\n",
      "      Epoch    GPU_mem   box_loss   cls_loss   dfl_loss  Instances       Size\n"
     ]
    },
    {
     "name": "stderr",
     "output_type": "stream",
     "text": [
      "     38/100      2.21G     0.6367     0.8177      2.247         25        640: 100%|██████████| 856/856 [01:42<00:00,  \n",
      "                 Class     Images  Instances      Box(P          R      mAP50  mAP50-95): 100%|██████████| 82/82 [00:14"
     ]
    },
    {
     "name": "stdout",
     "output_type": "stream",
     "text": [
      "                   all       1303       1924      0.915      0.851      0.929      0.856\n"
     ]
    },
    {
     "name": "stderr",
     "output_type": "stream",
     "text": [
      "\n"
     ]
    },
    {
     "name": "stdout",
     "output_type": "stream",
     "text": [
      "\n",
      "      Epoch    GPU_mem   box_loss   cls_loss   dfl_loss  Instances       Size\n"
     ]
    },
    {
     "name": "stderr",
     "output_type": "stream",
     "text": [
      "     39/100      2.24G     0.6282     0.8045      2.227         22        640: 100%|██████████| 856/856 [01:48<00:00,  \n",
      "                 Class     Images  Instances      Box(P          R      mAP50  mAP50-95): 100%|██████████| 82/82 [00:14"
     ]
    },
    {
     "name": "stdout",
     "output_type": "stream",
     "text": [
      "                   all       1303       1924      0.911      0.846      0.924      0.854\n"
     ]
    },
    {
     "name": "stderr",
     "output_type": "stream",
     "text": [
      "\n"
     ]
    },
    {
     "name": "stdout",
     "output_type": "stream",
     "text": [
      "\n",
      "      Epoch    GPU_mem   box_loss   cls_loss   dfl_loss  Instances       Size\n"
     ]
    },
    {
     "name": "stderr",
     "output_type": "stream",
     "text": [
      "     40/100      2.24G     0.6307     0.8098      2.246         25        640: 100%|██████████| 856/856 [01:48<00:00,  \n",
      "                 Class     Images  Instances      Box(P          R      mAP50  mAP50-95): 100%|██████████| 82/82 [00:14"
     ]
    },
    {
     "name": "stdout",
     "output_type": "stream",
     "text": [
      "                   all       1303       1924       0.91      0.851       0.93      0.856\n"
     ]
    },
    {
     "name": "stderr",
     "output_type": "stream",
     "text": [
      "\n"
     ]
    },
    {
     "name": "stdout",
     "output_type": "stream",
     "text": [
      "\n",
      "      Epoch    GPU_mem   box_loss   cls_loss   dfl_loss  Instances       Size\n"
     ]
    },
    {
     "name": "stderr",
     "output_type": "stream",
     "text": [
      "     41/100      2.26G     0.6206     0.7906      2.233         27        640: 100%|██████████| 856/856 [01:42<00:00,  \n",
      "                 Class     Images  Instances      Box(P          R      mAP50  mAP50-95): 100%|██████████| 82/82 [00:14"
     ]
    },
    {
     "name": "stdout",
     "output_type": "stream",
     "text": [
      "                   all       1303       1924      0.901      0.866      0.933      0.862\n"
     ]
    },
    {
     "name": "stderr",
     "output_type": "stream",
     "text": [
      "\n"
     ]
    },
    {
     "name": "stdout",
     "output_type": "stream",
     "text": [
      "\n",
      "      Epoch    GPU_mem   box_loss   cls_loss   dfl_loss  Instances       Size\n"
     ]
    },
    {
     "name": "stderr",
     "output_type": "stream",
     "text": [
      "     42/100      2.21G      0.628     0.7984      2.237         24        640: 100%|██████████| 856/856 [01:48<00:00,  \n",
      "                 Class     Images  Instances      Box(P          R      mAP50  mAP50-95): 100%|██████████| 82/82 [00:14"
     ]
    },
    {
     "name": "stdout",
     "output_type": "stream",
     "text": [
      "                   all       1303       1924        0.9      0.873      0.936      0.865\n"
     ]
    },
    {
     "name": "stderr",
     "output_type": "stream",
     "text": [
      "\n"
     ]
    },
    {
     "name": "stdout",
     "output_type": "stream",
     "text": [
      "\n",
      "      Epoch    GPU_mem   box_loss   cls_loss   dfl_loss  Instances       Size\n"
     ]
    },
    {
     "name": "stderr",
     "output_type": "stream",
     "text": [
      "     43/100      2.21G     0.6193     0.7808      2.224         18        640: 100%|██████████| 856/856 [01:49<00:00,  \n",
      "                 Class     Images  Instances      Box(P          R      mAP50  mAP50-95): 100%|██████████| 82/82 [00:14"
     ]
    },
    {
     "name": "stdout",
     "output_type": "stream",
     "text": [
      "                   all       1303       1924      0.881      0.885      0.936      0.868\n"
     ]
    },
    {
     "name": "stderr",
     "output_type": "stream",
     "text": [
      "\n"
     ]
    },
    {
     "name": "stdout",
     "output_type": "stream",
     "text": [
      "\n",
      "      Epoch    GPU_mem   box_loss   cls_loss   dfl_loss  Instances       Size\n"
     ]
    },
    {
     "name": "stderr",
     "output_type": "stream",
     "text": [
      "     44/100      2.21G     0.6156     0.7793      2.235         31        640: 100%|██████████| 856/856 [01:43<00:00,  \n",
      "                 Class     Images  Instances      Box(P          R      mAP50  mAP50-95): 100%|██████████| 82/82 [00:14"
     ]
    },
    {
     "name": "stdout",
     "output_type": "stream",
     "text": [
      "                   all       1303       1924      0.893      0.875      0.934      0.863\n"
     ]
    },
    {
     "name": "stderr",
     "output_type": "stream",
     "text": [
      "\n"
     ]
    },
    {
     "name": "stdout",
     "output_type": "stream",
     "text": [
      "\n",
      "      Epoch    GPU_mem   box_loss   cls_loss   dfl_loss  Instances       Size\n"
     ]
    },
    {
     "name": "stderr",
     "output_type": "stream",
     "text": [
      "     45/100      2.21G     0.6166     0.7762      2.225         18        640: 100%|██████████| 856/856 [01:50<00:00,  \n",
      "                 Class     Images  Instances      Box(P          R      mAP50  mAP50-95): 100%|██████████| 82/82 [00:14"
     ]
    },
    {
     "name": "stdout",
     "output_type": "stream",
     "text": [
      "                   all       1303       1924       0.89      0.883      0.935      0.866\n"
     ]
    },
    {
     "name": "stderr",
     "output_type": "stream",
     "text": [
      "\n"
     ]
    },
    {
     "name": "stdout",
     "output_type": "stream",
     "text": [
      "\n",
      "      Epoch    GPU_mem   box_loss   cls_loss   dfl_loss  Instances       Size\n"
     ]
    },
    {
     "name": "stderr",
     "output_type": "stream",
     "text": [
      "     46/100      2.22G     0.6151     0.7731      2.218         26        640: 100%|██████████| 856/856 [01:48<00:00,  \n",
      "                 Class     Images  Instances      Box(P          R      mAP50  mAP50-95): 100%|██████████| 82/82 [00:14"
     ]
    },
    {
     "name": "stdout",
     "output_type": "stream",
     "text": [
      "                   all       1303       1924      0.904      0.871      0.935      0.868\n"
     ]
    },
    {
     "name": "stderr",
     "output_type": "stream",
     "text": [
      "\n"
     ]
    },
    {
     "name": "stdout",
     "output_type": "stream",
     "text": [
      "\n",
      "      Epoch    GPU_mem   box_loss   cls_loss   dfl_loss  Instances       Size\n"
     ]
    },
    {
     "name": "stderr",
     "output_type": "stream",
     "text": [
      "     47/100      2.21G     0.6098     0.7623      2.215         27        640: 100%|██████████| 856/856 [01:44<00:00,  \n",
      "                 Class     Images  Instances      Box(P          R      mAP50  mAP50-95): 100%|██████████| 82/82 [00:14"
     ]
    },
    {
     "name": "stdout",
     "output_type": "stream",
     "text": [
      "                   all       1303       1924      0.894      0.877      0.935      0.868\n"
     ]
    },
    {
     "name": "stderr",
     "output_type": "stream",
     "text": [
      "\n"
     ]
    },
    {
     "name": "stdout",
     "output_type": "stream",
     "text": [
      "\n",
      "      Epoch    GPU_mem   box_loss   cls_loss   dfl_loss  Instances       Size\n"
     ]
    },
    {
     "name": "stderr",
     "output_type": "stream",
     "text": [
      "     48/100      2.21G     0.6015     0.7517      2.206         34        640: 100%|██████████| 856/856 [01:49<00:00,  \n",
      "                 Class     Images  Instances      Box(P          R      mAP50  mAP50-95): 100%|██████████| 82/82 [00:14"
     ]
    },
    {
     "name": "stdout",
     "output_type": "stream",
     "text": [
      "                   all       1303       1924      0.906      0.866      0.936      0.871\n"
     ]
    },
    {
     "name": "stderr",
     "output_type": "stream",
     "text": [
      "\n"
     ]
    },
    {
     "name": "stdout",
     "output_type": "stream",
     "text": [
      "\n",
      "      Epoch    GPU_mem   box_loss   cls_loss   dfl_loss  Instances       Size\n"
     ]
    },
    {
     "name": "stderr",
     "output_type": "stream",
     "text": [
      "     49/100      2.22G     0.6045     0.7516      2.218         30        640: 100%|██████████| 856/856 [01:50<00:00,  \n",
      "                 Class     Images  Instances      Box(P          R      mAP50  mAP50-95): 100%|██████████| 82/82 [00:14"
     ]
    },
    {
     "name": "stdout",
     "output_type": "stream",
     "text": [
      "                   all       1303       1924      0.896      0.885      0.939      0.875\n"
     ]
    },
    {
     "name": "stderr",
     "output_type": "stream",
     "text": [
      "\n"
     ]
    },
    {
     "name": "stdout",
     "output_type": "stream",
     "text": [
      "\n",
      "      Epoch    GPU_mem   box_loss   cls_loss   dfl_loss  Instances       Size\n"
     ]
    },
    {
     "name": "stderr",
     "output_type": "stream",
     "text": [
      "     50/100      2.22G      0.597     0.7349      2.213         26        640: 100%|██████████| 856/856 [01:43<00:00,  \n",
      "                 Class     Images  Instances      Box(P          R      mAP50  mAP50-95): 100%|██████████| 82/82 [00:14"
     ]
    },
    {
     "name": "stdout",
     "output_type": "stream",
     "text": [
      "                   all       1303       1924      0.909      0.875      0.938      0.874\n"
     ]
    },
    {
     "name": "stderr",
     "output_type": "stream",
     "text": [
      "\n"
     ]
    },
    {
     "name": "stdout",
     "output_type": "stream",
     "text": [
      "\n",
      "      Epoch    GPU_mem   box_loss   cls_loss   dfl_loss  Instances       Size\n"
     ]
    },
    {
     "name": "stderr",
     "output_type": "stream",
     "text": [
      "     51/100      2.23G     0.5906     0.7251      2.192         19        640: 100%|██████████| 856/856 [01:50<00:00,  \n",
      "                 Class     Images  Instances      Box(P          R      mAP50  mAP50-95): 100%|██████████| 82/82 [00:14"
     ]
    },
    {
     "name": "stdout",
     "output_type": "stream",
     "text": [
      "                   all       1303       1924      0.916       0.87      0.939      0.874\n"
     ]
    },
    {
     "name": "stderr",
     "output_type": "stream",
     "text": [
      "\n"
     ]
    },
    {
     "name": "stdout",
     "output_type": "stream",
     "text": [
      "\n",
      "      Epoch    GPU_mem   box_loss   cls_loss   dfl_loss  Instances       Size\n"
     ]
    },
    {
     "name": "stderr",
     "output_type": "stream",
     "text": [
      "     52/100      2.24G     0.5879     0.7163      2.196         23        640: 100%|██████████| 856/856 [01:49<00:00,  \n",
      "                 Class     Images  Instances      Box(P          R      mAP50  mAP50-95): 100%|██████████| 82/82 [00:14"
     ]
    },
    {
     "name": "stdout",
     "output_type": "stream",
     "text": [
      "                   all       1303       1924      0.913       0.87      0.939      0.875\n"
     ]
    },
    {
     "name": "stderr",
     "output_type": "stream",
     "text": [
      "\n"
     ]
    },
    {
     "name": "stdout",
     "output_type": "stream",
     "text": [
      "\n",
      "      Epoch    GPU_mem   box_loss   cls_loss   dfl_loss  Instances       Size\n"
     ]
    },
    {
     "name": "stderr",
     "output_type": "stream",
     "text": [
      "     53/100      2.22G     0.5918     0.7204      2.205         15        640: 100%|██████████| 856/856 [01:43<00:00,  \n",
      "                 Class     Images  Instances      Box(P          R      mAP50  mAP50-95): 100%|██████████| 82/82 [00:14"
     ]
    },
    {
     "name": "stdout",
     "output_type": "stream",
     "text": [
      "                   all       1303       1924      0.915      0.866      0.937      0.875\n"
     ]
    },
    {
     "name": "stderr",
     "output_type": "stream",
     "text": [
      "\n"
     ]
    },
    {
     "name": "stdout",
     "output_type": "stream",
     "text": [
      "\n",
      "      Epoch    GPU_mem   box_loss   cls_loss   dfl_loss  Instances       Size\n"
     ]
    },
    {
     "name": "stderr",
     "output_type": "stream",
     "text": [
      "     54/100      2.21G     0.5854      0.713      2.198         25        640: 100%|██████████| 856/856 [01:48<00:00,  \n",
      "                 Class     Images  Instances      Box(P          R      mAP50  mAP50-95): 100%|██████████| 82/82 [00:14"
     ]
    },
    {
     "name": "stdout",
     "output_type": "stream",
     "text": [
      "                   all       1303       1924       0.91      0.867      0.937      0.874\n"
     ]
    },
    {
     "name": "stderr",
     "output_type": "stream",
     "text": [
      "\n"
     ]
    },
    {
     "name": "stdout",
     "output_type": "stream",
     "text": [
      "\n",
      "      Epoch    GPU_mem   box_loss   cls_loss   dfl_loss  Instances       Size\n"
     ]
    },
    {
     "name": "stderr",
     "output_type": "stream",
     "text": [
      "     55/100      2.23G     0.5842     0.7024      2.188         25        640: 100%|██████████| 856/856 [01:49<00:00,  \n",
      "                 Class     Images  Instances      Box(P          R      mAP50  mAP50-95): 100%|██████████| 82/82 [00:14"
     ]
    },
    {
     "name": "stdout",
     "output_type": "stream",
     "text": [
      "                   all       1303       1924      0.909      0.873      0.938      0.874\n"
     ]
    },
    {
     "name": "stderr",
     "output_type": "stream",
     "text": [
      "\n"
     ]
    },
    {
     "name": "stdout",
     "output_type": "stream",
     "text": [
      "\n",
      "      Epoch    GPU_mem   box_loss   cls_loss   dfl_loss  Instances       Size\n"
     ]
    },
    {
     "name": "stderr",
     "output_type": "stream",
     "text": [
      "     56/100      2.24G     0.5788     0.6942      2.182         20        640: 100%|██████████| 856/856 [01:43<00:00,  \n",
      "                 Class     Images  Instances      Box(P          R      mAP50  mAP50-95): 100%|██████████| 82/82 [00:14"
     ]
    },
    {
     "name": "stdout",
     "output_type": "stream",
     "text": [
      "                   all       1303       1924      0.908      0.878       0.94      0.878\n"
     ]
    },
    {
     "name": "stderr",
     "output_type": "stream",
     "text": [
      "\n"
     ]
    },
    {
     "name": "stdout",
     "output_type": "stream",
     "text": [
      "\n",
      "      Epoch    GPU_mem   box_loss   cls_loss   dfl_loss  Instances       Size\n"
     ]
    },
    {
     "name": "stderr",
     "output_type": "stream",
     "text": [
      "     57/100      2.21G     0.5774     0.6915      2.185         22        640: 100%|██████████| 856/856 [01:49<00:00,  \n",
      "                 Class     Images  Instances      Box(P          R      mAP50  mAP50-95): 100%|██████████| 82/82 [00:14"
     ]
    },
    {
     "name": "stdout",
     "output_type": "stream",
     "text": [
      "                   all       1303       1924      0.894      0.888      0.939      0.875\n"
     ]
    },
    {
     "name": "stderr",
     "output_type": "stream",
     "text": [
      "\n"
     ]
    },
    {
     "name": "stdout",
     "output_type": "stream",
     "text": [
      "\n",
      "      Epoch    GPU_mem   box_loss   cls_loss   dfl_loss  Instances       Size\n"
     ]
    },
    {
     "name": "stderr",
     "output_type": "stream",
     "text": [
      "     58/100      2.23G     0.5792     0.6929       2.18         29        640: 100%|██████████| 856/856 [01:50<00:00,  \n",
      "                 Class     Images  Instances      Box(P          R      mAP50  mAP50-95): 100%|██████████| 82/82 [00:14"
     ]
    },
    {
     "name": "stdout",
     "output_type": "stream",
     "text": [
      "                   all       1303       1924      0.906      0.883      0.939      0.876\n"
     ]
    },
    {
     "name": "stderr",
     "output_type": "stream",
     "text": [
      "\n"
     ]
    },
    {
     "name": "stdout",
     "output_type": "stream",
     "text": [
      "\n",
      "      Epoch    GPU_mem   box_loss   cls_loss   dfl_loss  Instances       Size\n"
     ]
    },
    {
     "name": "stderr",
     "output_type": "stream",
     "text": [
      "     59/100      2.21G     0.5766     0.6857      2.185         19        640: 100%|██████████| 856/856 [01:43<00:00,  \n",
      "                 Class     Images  Instances      Box(P          R      mAP50  mAP50-95): 100%|██████████| 82/82 [00:14"
     ]
    },
    {
     "name": "stdout",
     "output_type": "stream",
     "text": [
      "                   all       1303       1924      0.912      0.881      0.939      0.875\n"
     ]
    },
    {
     "name": "stderr",
     "output_type": "stream",
     "text": [
      "\n"
     ]
    },
    {
     "name": "stdout",
     "output_type": "stream",
     "text": [
      "\n",
      "      Epoch    GPU_mem   box_loss   cls_loss   dfl_loss  Instances       Size\n"
     ]
    },
    {
     "name": "stderr",
     "output_type": "stream",
     "text": [
      "     60/100      2.22G     0.5719     0.6807      2.185         29        640: 100%|██████████| 856/856 [01:49<00:00,  \n",
      "                 Class     Images  Instances      Box(P          R      mAP50  mAP50-95): 100%|██████████| 82/82 [00:14"
     ]
    },
    {
     "name": "stdout",
     "output_type": "stream",
     "text": [
      "                   all       1303       1924      0.908      0.882      0.939      0.876\n"
     ]
    },
    {
     "name": "stderr",
     "output_type": "stream",
     "text": [
      "\n"
     ]
    },
    {
     "name": "stdout",
     "output_type": "stream",
     "text": [
      "\n",
      "      Epoch    GPU_mem   box_loss   cls_loss   dfl_loss  Instances       Size\n"
     ]
    },
    {
     "name": "stderr",
     "output_type": "stream",
     "text": [
      "     61/100      2.21G     0.5673     0.6676      2.185         21        640: 100%|██████████| 856/856 [01:50<00:00,  \n",
      "                 Class     Images  Instances      Box(P          R      mAP50  mAP50-95): 100%|██████████| 82/82 [00:14"
     ]
    },
    {
     "name": "stdout",
     "output_type": "stream",
     "text": [
      "                   all       1303       1924      0.908      0.877      0.939      0.875\n"
     ]
    },
    {
     "name": "stderr",
     "output_type": "stream",
     "text": [
      "\n"
     ]
    },
    {
     "name": "stdout",
     "output_type": "stream",
     "text": [
      "\n",
      "      Epoch    GPU_mem   box_loss   cls_loss   dfl_loss  Instances       Size\n"
     ]
    },
    {
     "name": "stderr",
     "output_type": "stream",
     "text": [
      "     62/100      2.21G     0.5682     0.6691      2.177         23        640: 100%|██████████| 856/856 [01:43<00:00,  \n",
      "                 Class     Images  Instances      Box(P          R      mAP50  mAP50-95): 100%|██████████| 82/82 [00:14"
     ]
    },
    {
     "name": "stdout",
     "output_type": "stream",
     "text": [
      "                   all       1303       1924      0.915       0.87      0.939      0.876\n"
     ]
    },
    {
     "name": "stderr",
     "output_type": "stream",
     "text": [
      "\n"
     ]
    },
    {
     "name": "stdout",
     "output_type": "stream",
     "text": [
      "\n",
      "      Epoch    GPU_mem   box_loss   cls_loss   dfl_loss  Instances       Size\n"
     ]
    },
    {
     "name": "stderr",
     "output_type": "stream",
     "text": [
      "     63/100      2.21G     0.5624     0.6607      2.169         20        640: 100%|██████████| 856/856 [01:49<00:00,  \n",
      "                 Class     Images  Instances      Box(P          R      mAP50  mAP50-95): 100%|██████████| 82/82 [00:14"
     ]
    },
    {
     "name": "stdout",
     "output_type": "stream",
     "text": [
      "                   all       1303       1924      0.912      0.878       0.94      0.877\n"
     ]
    },
    {
     "name": "stderr",
     "output_type": "stream",
     "text": [
      "\n"
     ]
    },
    {
     "name": "stdout",
     "output_type": "stream",
     "text": [
      "\n",
      "      Epoch    GPU_mem   box_loss   cls_loss   dfl_loss  Instances       Size\n"
     ]
    },
    {
     "name": "stderr",
     "output_type": "stream",
     "text": [
      "     64/100      2.26G     0.5583     0.6508      2.175         27        640: 100%|██████████| 856/856 [01:47<00:00,  \n",
      "                 Class     Images  Instances      Box(P          R      mAP50  mAP50-95): 100%|██████████| 82/82 [00:14"
     ]
    },
    {
     "name": "stdout",
     "output_type": "stream",
     "text": [
      "                   all       1303       1924      0.914      0.875      0.939      0.876\n"
     ]
    },
    {
     "name": "stderr",
     "output_type": "stream",
     "text": [
      "\n"
     ]
    },
    {
     "name": "stdout",
     "output_type": "stream",
     "text": [
      "\n",
      "      Epoch    GPU_mem   box_loss   cls_loss   dfl_loss  Instances       Size\n"
     ]
    },
    {
     "name": "stderr",
     "output_type": "stream",
     "text": [
      "     65/100      2.21G     0.5535     0.6459      2.164         27        640: 100%|██████████| 856/856 [01:43<00:00,  \n",
      "                 Class     Images  Instances      Box(P          R      mAP50  mAP50-95): 100%|██████████| 82/82 [00:14"
     ]
    },
    {
     "name": "stdout",
     "output_type": "stream",
     "text": [
      "                   all       1303       1924      0.909       0.88      0.939      0.878\n"
     ]
    },
    {
     "name": "stderr",
     "output_type": "stream",
     "text": [
      "\n"
     ]
    },
    {
     "name": "stdout",
     "output_type": "stream",
     "text": [
      "\n",
      "      Epoch    GPU_mem   box_loss   cls_loss   dfl_loss  Instances       Size\n"
     ]
    },
    {
     "name": "stderr",
     "output_type": "stream",
     "text": [
      "     66/100      2.21G     0.5532       0.64      2.164         27        640: 100%|██████████| 856/856 [01:48<00:00,  \n",
      "                 Class     Images  Instances      Box(P          R      mAP50  mAP50-95): 100%|██████████| 82/82 [00:14"
     ]
    },
    {
     "name": "stdout",
     "output_type": "stream",
     "text": [
      "                   all       1303       1924      0.908       0.88       0.94      0.879\n"
     ]
    },
    {
     "name": "stderr",
     "output_type": "stream",
     "text": [
      "\n"
     ]
    },
    {
     "name": "stdout",
     "output_type": "stream",
     "text": [
      "\n",
      "      Epoch    GPU_mem   box_loss   cls_loss   dfl_loss  Instances       Size\n"
     ]
    },
    {
     "name": "stderr",
     "output_type": "stream",
     "text": [
      "     67/100      2.25G     0.5552     0.6444      2.177         17        640: 100%|██████████| 856/856 [01:50<00:00,  \n",
      "                 Class     Images  Instances      Box(P          R      mAP50  mAP50-95): 100%|██████████| 82/82 [00:14"
     ]
    },
    {
     "name": "stdout",
     "output_type": "stream",
     "text": [
      "                   all       1303       1924      0.912      0.877       0.94      0.879\n"
     ]
    },
    {
     "name": "stderr",
     "output_type": "stream",
     "text": [
      "\n"
     ]
    },
    {
     "name": "stdout",
     "output_type": "stream",
     "text": [
      "\n",
      "      Epoch    GPU_mem   box_loss   cls_loss   dfl_loss  Instances       Size\n"
     ]
    },
    {
     "name": "stderr",
     "output_type": "stream",
     "text": [
      "     68/100      2.21G     0.5501     0.6364      2.166         33        640: 100%|██████████| 856/856 [01:44<00:00,  \n",
      "                 Class     Images  Instances      Box(P          R      mAP50  mAP50-95): 100%|██████████| 82/82 [00:14"
     ]
    },
    {
     "name": "stdout",
     "output_type": "stream",
     "text": [
      "                   all       1303       1924       0.91      0.878       0.94      0.879\n"
     ]
    },
    {
     "name": "stderr",
     "output_type": "stream",
     "text": [
      "\n"
     ]
    },
    {
     "name": "stdout",
     "output_type": "stream",
     "text": [
      "\n",
      "      Epoch    GPU_mem   box_loss   cls_loss   dfl_loss  Instances       Size\n"
     ]
    },
    {
     "name": "stderr",
     "output_type": "stream",
     "text": [
      "     69/100      2.22G     0.5487     0.6305       2.16         26        640: 100%|██████████| 856/856 [01:49<00:00,  \n",
      "                 Class     Images  Instances      Box(P          R      mAP50  mAP50-95): 100%|██████████| 82/82 [00:14"
     ]
    },
    {
     "name": "stdout",
     "output_type": "stream",
     "text": [
      "                   all       1303       1924      0.912      0.879       0.94      0.879\n"
     ]
    },
    {
     "name": "stderr",
     "output_type": "stream",
     "text": [
      "\n"
     ]
    },
    {
     "name": "stdout",
     "output_type": "stream",
     "text": [
      "\n",
      "      Epoch    GPU_mem   box_loss   cls_loss   dfl_loss  Instances       Size\n"
     ]
    },
    {
     "name": "stderr",
     "output_type": "stream",
     "text": [
      "     70/100      2.23G     0.5481     0.6271      2.163         26        640: 100%|██████████| 856/856 [01:49<00:00,  \n",
      "                 Class     Images  Instances      Box(P          R      mAP50  mAP50-95): 100%|██████████| 82/82 [00:14"
     ]
    },
    {
     "name": "stdout",
     "output_type": "stream",
     "text": [
      "                   all       1303       1924      0.916      0.875       0.94      0.879\n"
     ]
    },
    {
     "name": "stderr",
     "output_type": "stream",
     "text": [
      "\n"
     ]
    },
    {
     "name": "stdout",
     "output_type": "stream",
     "text": [
      "\n",
      "      Epoch    GPU_mem   box_loss   cls_loss   dfl_loss  Instances       Size\n"
     ]
    },
    {
     "name": "stderr",
     "output_type": "stream",
     "text": [
      "     71/100      2.22G     0.5488      0.634       2.15         36        640: 100%|██████████| 856/856 [01:43<00:00,  \n",
      "                 Class     Images  Instances      Box(P          R      mAP50  mAP50-95): 100%|██████████| 82/82 [00:14"
     ]
    },
    {
     "name": "stdout",
     "output_type": "stream",
     "text": [
      "                   all       1303       1924      0.909       0.88      0.939      0.879\n"
     ]
    },
    {
     "name": "stderr",
     "output_type": "stream",
     "text": [
      "\n"
     ]
    },
    {
     "name": "stdout",
     "output_type": "stream",
     "text": [
      "\n",
      "      Epoch    GPU_mem   box_loss   cls_loss   dfl_loss  Instances       Size\n"
     ]
    },
    {
     "name": "stderr",
     "output_type": "stream",
     "text": [
      "     72/100      2.21G     0.5477     0.6334      2.165         22        640: 100%|██████████| 856/856 [01:49<00:00,  \n",
      "                 Class     Images  Instances      Box(P          R      mAP50  mAP50-95): 100%|██████████| 82/82 [00:14"
     ]
    },
    {
     "name": "stdout",
     "output_type": "stream",
     "text": [
      "                   all       1303       1924      0.914      0.875      0.939      0.878\n"
     ]
    },
    {
     "name": "stderr",
     "output_type": "stream",
     "text": [
      "\n"
     ]
    },
    {
     "name": "stdout",
     "output_type": "stream",
     "text": [
      "\n",
      "      Epoch    GPU_mem   box_loss   cls_loss   dfl_loss  Instances       Size\n"
     ]
    },
    {
     "name": "stderr",
     "output_type": "stream",
     "text": [
      "     73/100      2.23G     0.5428     0.6232      2.167         21        640: 100%|██████████| 856/856 [01:48<00:00,  \n",
      "                 Class     Images  Instances      Box(P          R      mAP50  mAP50-95): 100%|██████████| 82/82 [00:14"
     ]
    },
    {
     "name": "stdout",
     "output_type": "stream",
     "text": [
      "                   all       1303       1924      0.917      0.873      0.938      0.878\n"
     ]
    },
    {
     "name": "stderr",
     "output_type": "stream",
     "text": [
      "\n"
     ]
    },
    {
     "name": "stdout",
     "output_type": "stream",
     "text": [
      "\n",
      "      Epoch    GPU_mem   box_loss   cls_loss   dfl_loss  Instances       Size\n"
     ]
    },
    {
     "name": "stderr",
     "output_type": "stream",
     "text": [
      "     74/100      2.21G     0.5422     0.6139      2.156         23        640: 100%|██████████| 856/856 [01:42<00:00,  \n",
      "                 Class     Images  Instances      Box(P          R      mAP50  mAP50-95): 100%|██████████| 82/82 [00:14"
     ]
    },
    {
     "name": "stdout",
     "output_type": "stream",
     "text": [
      "                   all       1303       1924      0.908      0.882      0.938      0.877\n"
     ]
    },
    {
     "name": "stderr",
     "output_type": "stream",
     "text": [
      "\n"
     ]
    },
    {
     "name": "stdout",
     "output_type": "stream",
     "text": [
      "\n",
      "      Epoch    GPU_mem   box_loss   cls_loss   dfl_loss  Instances       Size\n"
     ]
    },
    {
     "name": "stderr",
     "output_type": "stream",
     "text": [
      "     75/100      2.24G     0.5408     0.6178      2.147         24        640: 100%|██████████| 856/856 [01:49<00:00,  \n",
      "                 Class     Images  Instances      Box(P          R      mAP50  mAP50-95): 100%|██████████| 82/82 [00:14"
     ]
    },
    {
     "name": "stdout",
     "output_type": "stream",
     "text": [
      "                   all       1303       1924      0.915      0.878      0.939      0.878\n"
     ]
    },
    {
     "name": "stderr",
     "output_type": "stream",
     "text": [
      "\n"
     ]
    },
    {
     "name": "stdout",
     "output_type": "stream",
     "text": [
      "\n",
      "      Epoch    GPU_mem   box_loss   cls_loss   dfl_loss  Instances       Size\n"
     ]
    },
    {
     "name": "stderr",
     "output_type": "stream",
     "text": [
      "     76/100      2.21G      0.538     0.6164      2.157         17        640: 100%|██████████| 856/856 [01:49<00:00,  \n",
      "                 Class     Images  Instances      Box(P          R      mAP50  mAP50-95): 100%|██████████| 82/82 [00:14"
     ]
    },
    {
     "name": "stdout",
     "output_type": "stream",
     "text": [
      "                   all       1303       1924      0.908       0.88      0.939      0.878\n"
     ]
    },
    {
     "name": "stderr",
     "output_type": "stream",
     "text": [
      "\n"
     ]
    },
    {
     "name": "stdout",
     "output_type": "stream",
     "text": [
      "\n",
      "      Epoch    GPU_mem   box_loss   cls_loss   dfl_loss  Instances       Size\n"
     ]
    },
    {
     "name": "stderr",
     "output_type": "stream",
     "text": [
      "     77/100      2.22G     0.5295     0.5974      2.147         29        640: 100%|██████████| 856/856 [01:43<00:00,  \n",
      "                 Class     Images  Instances      Box(P          R      mAP50  mAP50-95): 100%|██████████| 82/82 [00:14"
     ]
    },
    {
     "name": "stdout",
     "output_type": "stream",
     "text": [
      "                   all       1303       1924      0.907      0.883      0.939      0.878\n"
     ]
    },
    {
     "name": "stderr",
     "output_type": "stream",
     "text": [
      "\n"
     ]
    },
    {
     "name": "stdout",
     "output_type": "stream",
     "text": [
      "\n",
      "      Epoch    GPU_mem   box_loss   cls_loss   dfl_loss  Instances       Size\n"
     ]
    },
    {
     "name": "stderr",
     "output_type": "stream",
     "text": [
      "     78/100      2.23G     0.5344     0.6009      2.149         34        640: 100%|██████████| 856/856 [01:49<00:00,  \n",
      "                 Class     Images  Instances      Box(P          R      mAP50  mAP50-95): 100%|██████████| 82/82 [00:14"
     ]
    },
    {
     "name": "stdout",
     "output_type": "stream",
     "text": [
      "                   all       1303       1924      0.913      0.876      0.939      0.878\n"
     ]
    },
    {
     "name": "stderr",
     "output_type": "stream",
     "text": [
      "\n"
     ]
    },
    {
     "name": "stdout",
     "output_type": "stream",
     "text": [
      "\n",
      "      Epoch    GPU_mem   box_loss   cls_loss   dfl_loss  Instances       Size\n"
     ]
    },
    {
     "name": "stderr",
     "output_type": "stream",
     "text": [
      "     79/100      2.21G     0.5265     0.5914      2.147         24        640: 100%|██████████| 856/856 [01:49<00:00,  \n",
      "                 Class     Images  Instances      Box(P          R      mAP50  mAP50-95): 100%|██████████| 82/82 [00:14"
     ]
    },
    {
     "name": "stdout",
     "output_type": "stream",
     "text": [
      "                   all       1303       1924      0.912      0.876      0.939      0.879\n"
     ]
    },
    {
     "name": "stderr",
     "output_type": "stream",
     "text": [
      "\n"
     ]
    },
    {
     "name": "stdout",
     "output_type": "stream",
     "text": [
      "\n",
      "      Epoch    GPU_mem   box_loss   cls_loss   dfl_loss  Instances       Size\n"
     ]
    },
    {
     "name": "stderr",
     "output_type": "stream",
     "text": [
      "     80/100      2.21G     0.5246     0.5889      2.147         15        640: 100%|██████████| 856/856 [01:44<00:00,  \n",
      "                 Class     Images  Instances      Box(P          R      mAP50  mAP50-95): 100%|██████████| 82/82 [00:14"
     ]
    },
    {
     "name": "stdout",
     "output_type": "stream",
     "text": [
      "                   all       1303       1924       0.91      0.876      0.939      0.879\n"
     ]
    },
    {
     "name": "stderr",
     "output_type": "stream",
     "text": [
      "\n"
     ]
    },
    {
     "name": "stdout",
     "output_type": "stream",
     "text": [
      "\n",
      "      Epoch    GPU_mem   box_loss   cls_loss   dfl_loss  Instances       Size\n"
     ]
    },
    {
     "name": "stderr",
     "output_type": "stream",
     "text": [
      "     81/100      2.23G     0.5223     0.5859      2.146         27        640: 100%|██████████| 856/856 [01:50<00:00,  \n",
      "                 Class     Images  Instances      Box(P          R      mAP50  mAP50-95): 100%|██████████| 82/82 [00:14"
     ]
    },
    {
     "name": "stdout",
     "output_type": "stream",
     "text": [
      "                   all       1303       1924      0.913      0.875      0.939      0.879\n"
     ]
    },
    {
     "name": "stderr",
     "output_type": "stream",
     "text": [
      "\n"
     ]
    },
    {
     "name": "stdout",
     "output_type": "stream",
     "text": [
      "\n",
      "      Epoch    GPU_mem   box_loss   cls_loss   dfl_loss  Instances       Size\n"
     ]
    },
    {
     "name": "stderr",
     "output_type": "stream",
     "text": [
      "     82/100      2.21G     0.5243     0.5805      2.144         27        640: 100%|██████████| 856/856 [01:49<00:00,  \n",
      "                 Class     Images  Instances      Box(P          R      mAP50  mAP50-95): 100%|██████████| 82/82 [00:14"
     ]
    },
    {
     "name": "stdout",
     "output_type": "stream",
     "text": [
      "                   all       1303       1924      0.916      0.872      0.939      0.879\n"
     ]
    },
    {
     "name": "stderr",
     "output_type": "stream",
     "text": [
      "\n"
     ]
    },
    {
     "name": "stdout",
     "output_type": "stream",
     "text": [
      "\n",
      "      Epoch    GPU_mem   box_loss   cls_loss   dfl_loss  Instances       Size\n"
     ]
    },
    {
     "name": "stderr",
     "output_type": "stream",
     "text": [
      "     83/100      2.21G     0.5205     0.5738      2.142         21        640: 100%|██████████| 856/856 [01:44<00:00,  \n",
      "                 Class     Images  Instances      Box(P          R      mAP50  mAP50-95): 100%|██████████| 82/82 [00:14"
     ]
    },
    {
     "name": "stdout",
     "output_type": "stream",
     "text": [
      "                   all       1303       1924      0.915      0.873      0.939      0.879\n"
     ]
    },
    {
     "name": "stderr",
     "output_type": "stream",
     "text": [
      "\n"
     ]
    },
    {
     "name": "stdout",
     "output_type": "stream",
     "text": [
      "\n",
      "      Epoch    GPU_mem   box_loss   cls_loss   dfl_loss  Instances       Size\n"
     ]
    },
    {
     "name": "stderr",
     "output_type": "stream",
     "text": [
      "     84/100      2.24G     0.5146      0.573      2.138         22        640: 100%|██████████| 856/856 [01:49<00:00,  \n",
      "                 Class     Images  Instances      Box(P          R      mAP50  mAP50-95): 100%|██████████| 82/82 [00:14"
     ]
    },
    {
     "name": "stdout",
     "output_type": "stream",
     "text": [
      "                   all       1303       1924      0.917      0.872      0.938      0.879\n"
     ]
    },
    {
     "name": "stderr",
     "output_type": "stream",
     "text": [
      "\n"
     ]
    },
    {
     "name": "stdout",
     "output_type": "stream",
     "text": [
      "\n",
      "      Epoch    GPU_mem   box_loss   cls_loss   dfl_loss  Instances       Size\n"
     ]
    },
    {
     "name": "stderr",
     "output_type": "stream",
     "text": [
      "     85/100      2.21G     0.5138     0.5673      2.139         19        640: 100%|██████████| 856/856 [01:49<00:00,  \n",
      "                 Class     Images  Instances      Box(P          R      mAP50  mAP50-95): 100%|██████████| 82/82 [00:14"
     ]
    },
    {
     "name": "stdout",
     "output_type": "stream",
     "text": [
      "                   all       1303       1924      0.912      0.878      0.939      0.879\n"
     ]
    },
    {
     "name": "stderr",
     "output_type": "stream",
     "text": [
      "\n"
     ]
    },
    {
     "name": "stdout",
     "output_type": "stream",
     "text": [
      "\n",
      "      Epoch    GPU_mem   box_loss   cls_loss   dfl_loss  Instances       Size\n"
     ]
    },
    {
     "name": "stderr",
     "output_type": "stream",
     "text": [
      "     86/100      2.21G     0.5121     0.5635      2.136         20        640: 100%|██████████| 856/856 [01:43<00:00,  \n",
      "                 Class     Images  Instances      Box(P          R      mAP50  mAP50-95): 100%|██████████| 82/82 [00:14"
     ]
    },
    {
     "name": "stdout",
     "output_type": "stream",
     "text": [
      "                   all       1303       1924      0.907       0.88      0.938      0.879\n"
     ]
    },
    {
     "name": "stderr",
     "output_type": "stream",
     "text": [
      "\n"
     ]
    },
    {
     "name": "stdout",
     "output_type": "stream",
     "text": [
      "\n",
      "      Epoch    GPU_mem   box_loss   cls_loss   dfl_loss  Instances       Size\n"
     ]
    },
    {
     "name": "stderr",
     "output_type": "stream",
     "text": [
      "     87/100      2.21G     0.5085     0.5558       2.13         28        640: 100%|██████████| 856/856 [01:50<00:00,  \n",
      "                 Class     Images  Instances      Box(P          R      mAP50  mAP50-95): 100%|██████████| 82/82 [00:14"
     ]
    },
    {
     "name": "stdout",
     "output_type": "stream",
     "text": [
      "                   all       1303       1924      0.908      0.881      0.938      0.879\n"
     ]
    },
    {
     "name": "stderr",
     "output_type": "stream",
     "text": [
      "\n"
     ]
    },
    {
     "name": "stdout",
     "output_type": "stream",
     "text": [
      "\n",
      "      Epoch    GPU_mem   box_loss   cls_loss   dfl_loss  Instances       Size\n"
     ]
    },
    {
     "name": "stderr",
     "output_type": "stream",
     "text": [
      "     88/100      2.22G     0.5072     0.5534      2.131         23        640: 100%|██████████| 856/856 [01:50<00:00,  \n",
      "                 Class     Images  Instances      Box(P          R      mAP50  mAP50-95): 100%|██████████| 82/82 [00:14"
     ]
    },
    {
     "name": "stdout",
     "output_type": "stream",
     "text": [
      "                   all       1303       1924      0.909      0.881      0.938      0.879\n"
     ]
    },
    {
     "name": "stderr",
     "output_type": "stream",
     "text": [
      "\n"
     ]
    },
    {
     "name": "stdout",
     "output_type": "stream",
     "text": [
      "\n",
      "      Epoch    GPU_mem   box_loss   cls_loss   dfl_loss  Instances       Size\n"
     ]
    },
    {
     "name": "stderr",
     "output_type": "stream",
     "text": [
      "     89/100      2.21G     0.5034     0.5485      2.126         24        640: 100%|██████████| 856/856 [01:44<00:00,  \n",
      "                 Class     Images  Instances      Box(P          R      mAP50  mAP50-95): 100%|██████████| 82/82 [00:14"
     ]
    },
    {
     "name": "stdout",
     "output_type": "stream",
     "text": [
      "                   all       1303       1924       0.91      0.879      0.938      0.879\n"
     ]
    },
    {
     "name": "stderr",
     "output_type": "stream",
     "text": [
      "\n"
     ]
    },
    {
     "name": "stdout",
     "output_type": "stream",
     "text": [
      "\n",
      "      Epoch    GPU_mem   box_loss   cls_loss   dfl_loss  Instances       Size\n"
     ]
    },
    {
     "name": "stderr",
     "output_type": "stream",
     "text": [
      "     90/100      2.23G     0.5028     0.5451      2.126         29        640: 100%|██████████| 856/856 [01:48<00:00,  \n",
      "                 Class     Images  Instances      Box(P          R      mAP50  mAP50-95): 100%|██████████| 82/82 [00:14"
     ]
    },
    {
     "name": "stdout",
     "output_type": "stream",
     "text": [
      "                   all       1303       1924       0.91      0.877      0.938      0.879\n"
     ]
    },
    {
     "name": "stderr",
     "output_type": "stream",
     "text": [
      "\n"
     ]
    },
    {
     "name": "stdout",
     "output_type": "stream",
     "text": [
      "Closing dataloader mosaic\n",
      "\n",
      "      Epoch    GPU_mem   box_loss   cls_loss   dfl_loss  Instances       Size\n"
     ]
    },
    {
     "name": "stderr",
     "output_type": "stream",
     "text": [
      "     91/100      2.47G       0.32     0.3027      2.102         10        640: 100%|██████████| 856/856 [01:48<00:00,  \n",
      "                 Class     Images  Instances      Box(P          R      mAP50  mAP50-95): 100%|██████████| 82/82 [00:14"
     ]
    },
    {
     "name": "stdout",
     "output_type": "stream",
     "text": [
      "                   all       1303       1924      0.914       0.87      0.939      0.879\n"
     ]
    },
    {
     "name": "stderr",
     "output_type": "stream",
     "text": [
      "\n"
     ]
    },
    {
     "name": "stdout",
     "output_type": "stream",
     "text": [
      "\n",
      "      Epoch    GPU_mem   box_loss   cls_loss   dfl_loss  Instances       Size\n"
     ]
    },
    {
     "name": "stderr",
     "output_type": "stream",
     "text": [
      "     92/100      2.22G     0.3113     0.2871      2.099         10        640: 100%|██████████| 856/856 [01:41<00:00,  \n",
      "                 Class     Images  Instances      Box(P          R      mAP50  mAP50-95): 100%|██████████| 82/82 [00:14"
     ]
    },
    {
     "name": "stdout",
     "output_type": "stream",
     "text": [
      "                   all       1303       1924      0.912      0.873      0.939       0.88\n"
     ]
    },
    {
     "name": "stderr",
     "output_type": "stream",
     "text": [
      "\n"
     ]
    },
    {
     "name": "stdout",
     "output_type": "stream",
     "text": [
      "\n",
      "      Epoch    GPU_mem   box_loss   cls_loss   dfl_loss  Instances       Size\n"
     ]
    },
    {
     "name": "stderr",
     "output_type": "stream",
     "text": [
      "     93/100      2.22G     0.3067     0.2779      2.089          9        640: 100%|██████████| 856/856 [01:47<00:00,  \n",
      "                 Class     Images  Instances      Box(P          R      mAP50  mAP50-95): 100%|██████████| 82/82 [00:14"
     ]
    },
    {
     "name": "stdout",
     "output_type": "stream",
     "text": [
      "                   all       1303       1924      0.917       0.87      0.939       0.88\n"
     ]
    },
    {
     "name": "stderr",
     "output_type": "stream",
     "text": [
      "\n"
     ]
    },
    {
     "name": "stdout",
     "output_type": "stream",
     "text": [
      "\n",
      "      Epoch    GPU_mem   box_loss   cls_loss   dfl_loss  Instances       Size\n"
     ]
    },
    {
     "name": "stderr",
     "output_type": "stream",
     "text": [
      "     94/100      2.22G     0.3013     0.2708      2.087         10        640: 100%|██████████| 856/856 [01:48<00:00,  \n",
      "                 Class     Images  Instances      Box(P          R      mAP50  mAP50-95): 100%|██████████| 82/82 [00:14"
     ]
    },
    {
     "name": "stdout",
     "output_type": "stream",
     "text": [
      "                   all       1303       1924      0.917      0.869      0.939      0.881\n"
     ]
    },
    {
     "name": "stderr",
     "output_type": "stream",
     "text": [
      "\n"
     ]
    },
    {
     "name": "stdout",
     "output_type": "stream",
     "text": [
      "\n",
      "      Epoch    GPU_mem   box_loss   cls_loss   dfl_loss  Instances       Size\n"
     ]
    },
    {
     "name": "stderr",
     "output_type": "stream",
     "text": [
      "     95/100      2.21G     0.2969     0.2691       2.09         24        640: 100%|██████████| 856/856 [01:46<00:00,  \n",
      "                 Class     Images  Instances      Box(P          R      mAP50  mAP50-95): 100%|██████████| 82/82 [00:15"
     ]
    },
    {
     "name": "stdout",
     "output_type": "stream",
     "text": [
      "                   all       1303       1924      0.917       0.87      0.939      0.881\n"
     ]
    },
    {
     "name": "stderr",
     "output_type": "stream",
     "text": [
      "\n"
     ]
    },
    {
     "name": "stdout",
     "output_type": "stream",
     "text": [
      "\n",
      "      Epoch    GPU_mem   box_loss   cls_loss   dfl_loss  Instances       Size\n"
     ]
    },
    {
     "name": "stderr",
     "output_type": "stream",
     "text": [
      "     96/100      2.23G     0.2934      0.264      2.068         11        640: 100%|██████████| 856/856 [01:49<00:00,  \n",
      "                 Class     Images  Instances      Box(P          R      mAP50  mAP50-95): 100%|██████████| 82/82 [00:14"
     ]
    },
    {
     "name": "stdout",
     "output_type": "stream",
     "text": [
      "                   all       1303       1924      0.912      0.877      0.939      0.881\n"
     ]
    },
    {
     "name": "stderr",
     "output_type": "stream",
     "text": [
      "\n"
     ]
    },
    {
     "name": "stdout",
     "output_type": "stream",
     "text": [
      "\n",
      "      Epoch    GPU_mem   box_loss   cls_loss   dfl_loss  Instances       Size\n"
     ]
    },
    {
     "name": "stderr",
     "output_type": "stream",
     "text": [
      "     97/100      2.21G     0.2885     0.2564      2.076         13        640: 100%|██████████| 856/856 [01:48<00:00,  \n",
      "                 Class     Images  Instances      Box(P          R      mAP50  mAP50-95): 100%|██████████| 82/82 [00:14"
     ]
    },
    {
     "name": "stdout",
     "output_type": "stream",
     "text": [
      "                   all       1303       1924       0.91      0.878      0.939      0.881\n"
     ]
    },
    {
     "name": "stderr",
     "output_type": "stream",
     "text": [
      "\n"
     ]
    },
    {
     "name": "stdout",
     "output_type": "stream",
     "text": [
      "\n",
      "      Epoch    GPU_mem   box_loss   cls_loss   dfl_loss  Instances       Size\n"
     ]
    },
    {
     "name": "stderr",
     "output_type": "stream",
     "text": [
      "     98/100      2.22G     0.2835     0.2524      2.059         12        640: 100%|██████████| 856/856 [01:43<00:00,  \n",
      "                 Class     Images  Instances      Box(P          R      mAP50  mAP50-95): 100%|██████████| 82/82 [00:14"
     ]
    },
    {
     "name": "stdout",
     "output_type": "stream",
     "text": [
      "                   all       1303       1924       0.91      0.878       0.94      0.882\n"
     ]
    },
    {
     "name": "stderr",
     "output_type": "stream",
     "text": [
      "\n"
     ]
    },
    {
     "name": "stdout",
     "output_type": "stream",
     "text": [
      "\n",
      "      Epoch    GPU_mem   box_loss   cls_loss   dfl_loss  Instances       Size\n"
     ]
    },
    {
     "name": "stderr",
     "output_type": "stream",
     "text": [
      "     99/100      2.22G     0.2816     0.2503      2.065         12        640: 100%|██████████| 856/856 [01:52<00:00,  \n",
      "                 Class     Images  Instances      Box(P          R      mAP50  mAP50-95): 100%|██████████| 82/82 [00:15"
     ]
    },
    {
     "name": "stdout",
     "output_type": "stream",
     "text": [
      "                   all       1303       1924      0.912      0.877       0.94      0.882\n"
     ]
    },
    {
     "name": "stderr",
     "output_type": "stream",
     "text": [
      "\n"
     ]
    },
    {
     "name": "stdout",
     "output_type": "stream",
     "text": [
      "\n",
      "      Epoch    GPU_mem   box_loss   cls_loss   dfl_loss  Instances       Size\n"
     ]
    },
    {
     "name": "stderr",
     "output_type": "stream",
     "text": [
      "    100/100      2.22G     0.2778     0.2474      2.062         11        640: 100%|██████████| 856/856 [01:50<00:00,  \n",
      "                 Class     Images  Instances      Box(P          R      mAP50  mAP50-95): 100%|██████████| 82/82 [00:14"
     ]
    },
    {
     "name": "stdout",
     "output_type": "stream",
     "text": [
      "                   all       1303       1924      0.912      0.877       0.94      0.882\n"
     ]
    },
    {
     "name": "stderr",
     "output_type": "stream",
     "text": [
      "\n"
     ]
    },
    {
     "name": "stdout",
     "output_type": "stream",
     "text": [
      "\n",
      "65 epochs completed in 2.216 hours.\n",
      "Optimizer stripped from runs\\obb\\train6\\weights\\last.pt, 6.5MB\n",
      "Optimizer stripped from runs\\obb\\train6\\weights\\best.pt, 6.5MB\n",
      "\n",
      "Validating runs\\obb\\train6\\weights\\best.pt...\n",
      "Ultralytics YOLOv8.2.81  Python-3.11.0 torch-2.4.0+cu124 CUDA:0 (NVIDIA GeForce RTX 3080 Ti, 12288MiB)\n",
      "YOLOv8n-obb summary (fused): 187 layers, 3,078,974 parameters, 0 gradients, 8.3 GFLOPs\n"
     ]
    },
    {
     "name": "stderr",
     "output_type": "stream",
     "text": [
      "                 Class     Images  Instances      Box(P          R      mAP50  mAP50-95): 100%|██████████| 82/82 [00:12\n"
     ]
    },
    {
     "name": "stdout",
     "output_type": "stream",
     "text": [
      "                   all       1303       1924      0.913      0.877       0.94      0.883\n",
      "             Chai Nhua        176        224      0.893      0.862       0.93      0.867\n",
      "        Chai Thuy Tinh        193        297      0.941      0.886      0.951      0.888\n",
      "                   Coc        126        201      0.907      0.823        0.9      0.857\n",
      "           Coc cam tay        194        209      0.944      0.928      0.971       0.92\n",
      "                    Ly        168        225      0.937      0.864      0.955      0.909\n",
      "                Ly nho        148        188      0.823      0.819      0.898      0.861\n",
      "               Ly ruou        140        189       0.95      0.915      0.963       0.89\n",
      "         chai nuoc gym        141        205        0.9       0.88      0.931      0.826\n",
      "             lon thiec        127        186      0.919      0.913      0.957      0.926\n",
      "Speed: 0.2ms preprocess, 1.0ms inference, 0.0ms loss, 2.3ms postprocess per image\n",
      "Results saved to \u001b[1mruns\\obb\\train6\u001b[0m\n"
     ]
    }
   ],
   "source": [
    "from ultralytics import YOLO\n",
    "\n",
    "model = YOLO('last.pt')\n",
    "\n",
    "results = model.train(data=\"Beverage-Containers-1/data.yaml\", epochs=100, imgsz=640, device=0, save=True, resume=True)"
   ]
  },
  {
   "cell_type": "code",
   "execution_count": 14,
   "id": "fffa1408-2f5c-4f3c-af6b-abf7468e374b",
   "metadata": {},
   "outputs": [
    {
     "name": "stdout",
     "output_type": "stream",
     "text": [
      "Requirement already satisfied: supervision in c:\\users\\ncpc\\desktop\\python311\\lib\\site-packages (0.22.0)\n",
      "Requirement already satisfied: defusedxml<0.8.0,>=0.7.1 in c:\\users\\ncpc\\desktop\\python311\\lib\\site-packages (from supervision) (0.7.1)\n",
      "Requirement already satisfied: matplotlib>=3.6.0 in c:\\users\\ncpc\\desktop\\python311\\lib\\site-packages (from supervision) (3.9.2)\n",
      "Requirement already satisfied: numpy>=1.21.2 in c:\\users\\ncpc\\desktop\\python311\\lib\\site-packages (from supervision) (1.26.3)\n",
      "Requirement already satisfied: opencv-python-headless>=4.5.5.64 in c:\\users\\ncpc\\desktop\\python311\\lib\\site-packages (from supervision) (4.10.0.84)\n",
      "Requirement already satisfied: pillow>=9.4 in c:\\users\\ncpc\\desktop\\python311\\lib\\site-packages (from supervision) (10.2.0)\n",
      "Requirement already satisfied: pyyaml>=5.3 in c:\\users\\ncpc\\desktop\\python311\\lib\\site-packages (from supervision) (6.0.2)\n",
      "Requirement already satisfied: scipy<2.0.0,>=1.10.0 in c:\\users\\ncpc\\desktop\\python311\\lib\\site-packages (from supervision) (1.14.1)\n",
      "Requirement already satisfied: contourpy>=1.0.1 in c:\\users\\ncpc\\desktop\\python311\\lib\\site-packages (from matplotlib>=3.6.0->supervision) (1.2.1)\n",
      "Requirement already satisfied: cycler>=0.10 in c:\\users\\ncpc\\desktop\\python311\\lib\\site-packages (from matplotlib>=3.6.0->supervision) (0.12.1)\n",
      "Requirement already satisfied: fonttools>=4.22.0 in c:\\users\\ncpc\\desktop\\python311\\lib\\site-packages (from matplotlib>=3.6.0->supervision) (4.53.1)\n",
      "Requirement already satisfied: kiwisolver>=1.3.1 in c:\\users\\ncpc\\desktop\\python311\\lib\\site-packages (from matplotlib>=3.6.0->supervision) (1.4.5)\n",
      "Requirement already satisfied: packaging>=20.0 in c:\\users\\ncpc\\desktop\\python311\\lib\\site-packages (from matplotlib>=3.6.0->supervision) (24.1)\n",
      "Requirement already satisfied: pyparsing>=2.3.1 in c:\\users\\ncpc\\desktop\\python311\\lib\\site-packages (from matplotlib>=3.6.0->supervision) (3.1.2)\n",
      "Requirement already satisfied: python-dateutil>=2.7 in c:\\users\\ncpc\\desktop\\python311\\lib\\site-packages (from matplotlib>=3.6.0->supervision) (2.9.0.post0)\n",
      "Requirement already satisfied: six>=1.5 in c:\\users\\ncpc\\desktop\\python311\\lib\\site-packages (from python-dateutil>=2.7->matplotlib>=3.6.0->supervision) (1.16.0)\n"
     ]
    },
    {
     "name": "stderr",
     "output_type": "stream",
     "text": [
      "\n",
      "[notice] A new release of pip available: 22.3 -> 24.2\n",
      "[notice] To update, run: python.exe -m pip install --upgrade pip\n"
     ]
    }
   ],
   "source": [
    "!pip install supervision"
   ]
  },
  {
   "cell_type": "code",
   "execution_count": 17,
   "id": "f3267f61-8a87-41f3-bd6a-f68436362d43",
   "metadata": {},
   "outputs": [
    {
     "name": "stdout",
     "output_type": "stream",
     "text": [
      "\n",
      "image 1/1 C:\\Users\\NCPC\\chainhua\\1.png: 480x640 70.0ms\n",
      "Speed: 2.0ms preprocess, 70.0ms inference, 6.0ms postprocess per image at shape (1, 3, 480, 640)\n",
      "Results saved to \u001b[1mruns\\obb\\predict2\u001b[0m\n"
     ]
    },
    {
     "data": {
      "text/plain": [
       "<Figure size 1600x1600 with 1 Axes>"
      ]
     },
     "metadata": {},
     "output_type": "display_data"
    }
   ],
   "source": [
    "model = YOLO('runs/obb/train6/weights/best.pt')\n",
    "\n",
    "import os\n",
    "import random\n",
    "\n",
    "file_name = os.path.join(f\"1.png\")\n",
    "\n",
    "results = model(file_name, save=True)\n",
    "\n",
    "import supervision as sv\n",
    "import cv2\n",
    "\n",
    "detections = sv.Detections.from_ultralytics(results[0])\n",
    "\n",
    "oriented_box_annotator = sv.OrientedBoxAnnotator()\n",
    "annotated_frame = oriented_box_annotator.annotate(\n",
    "    scene=cv2.imread(file_name),\n",
    "    detections=detections\n",
    ")\n",
    "\n",
    "sv.plot_image(image=annotated_frame, size=(16, 16))"
   ]
  },
  {
   "cell_type": "code",
   "execution_count": 18,
   "id": "c9a22bf8-2fae-49fd-8685-8c5577cc8835",
   "metadata": {},
   "outputs": [
    {
     "name": "stdout",
     "output_type": "stream",
     "text": [
      "Requirement already satisfied: supervision in c:\\users\\ncpc\\desktop\\python311\\lib\\site-packages (0.22.0)\n",
      "Requirement already satisfied: defusedxml<0.8.0,>=0.7.1 in c:\\users\\ncpc\\desktop\\python311\\lib\\site-packages (from supervision) (0.7.1)\n",
      "Requirement already satisfied: matplotlib>=3.6.0 in c:\\users\\ncpc\\desktop\\python311\\lib\\site-packages (from supervision) (3.9.2)\n",
      "Requirement already satisfied: numpy>=1.21.2 in c:\\users\\ncpc\\desktop\\python311\\lib\\site-packages (from supervision) (1.26.3)\n",
      "Requirement already satisfied: opencv-python-headless>=4.5.5.64 in c:\\users\\ncpc\\desktop\\python311\\lib\\site-packages (from supervision) (4.10.0.84)\n",
      "Requirement already satisfied: pillow>=9.4 in c:\\users\\ncpc\\desktop\\python311\\lib\\site-packages (from supervision) (10.2.0)\n",
      "Requirement already satisfied: pyyaml>=5.3 in c:\\users\\ncpc\\desktop\\python311\\lib\\site-packages (from supervision) (6.0.2)\n",
      "Requirement already satisfied: scipy<2.0.0,>=1.10.0 in c:\\users\\ncpc\\desktop\\python311\\lib\\site-packages (from supervision) (1.14.1)\n",
      "Requirement already satisfied: contourpy>=1.0.1 in c:\\users\\ncpc\\desktop\\python311\\lib\\site-packages (from matplotlib>=3.6.0->supervision) (1.2.1)\n",
      "Requirement already satisfied: cycler>=0.10 in c:\\users\\ncpc\\desktop\\python311\\lib\\site-packages (from matplotlib>=3.6.0->supervision) (0.12.1)\n",
      "Requirement already satisfied: fonttools>=4.22.0 in c:\\users\\ncpc\\desktop\\python311\\lib\\site-packages (from matplotlib>=3.6.0->supervision) (4.53.1)\n",
      "Requirement already satisfied: kiwisolver>=1.3.1 in c:\\users\\ncpc\\desktop\\python311\\lib\\site-packages (from matplotlib>=3.6.0->supervision) (1.4.5)\n",
      "Requirement already satisfied: packaging>=20.0 in c:\\users\\ncpc\\desktop\\python311\\lib\\site-packages (from matplotlib>=3.6.0->supervision) (24.1)\n",
      "Requirement already satisfied: pyparsing>=2.3.1 in c:\\users\\ncpc\\desktop\\python311\\lib\\site-packages (from matplotlib>=3.6.0->supervision) (3.1.2)\n",
      "Requirement already satisfied: python-dateutil>=2.7 in c:\\users\\ncpc\\desktop\\python311\\lib\\site-packages (from matplotlib>=3.6.0->supervision) (2.9.0.post0)\n",
      "Requirement already satisfied: six>=1.5 in c:\\users\\ncpc\\desktop\\python311\\lib\\site-packages (from python-dateutil>=2.7->matplotlib>=3.6.0->supervision) (1.16.0)\n"
     ]
    },
    {
     "name": "stderr",
     "output_type": "stream",
     "text": [
      "\n",
      "[notice] A new release of pip available: 22.3 -> 24.2\n",
      "[notice] To update, run: python.exe -m pip install --upgrade pip\n"
     ]
    }
   ],
   "source": [
    "!pip install supervision"
   ]
  },
  {
   "cell_type": "code",
   "execution_count": 19,
   "id": "9ebb9e63-5c3c-4bad-9922-dffd50c50754",
   "metadata": {},
   "outputs": [
    {
     "name": "stdout",
     "output_type": "stream",
     "text": [
      "Collecting inference\n",
      "  Downloading inference-0.16.3-py3-none-any.whl (600 kB)\n",
      "     -------------------------------------- 600.7/600.7 kB 3.4 MB/s eta 0:00:00\n",
      "Collecting APScheduler<=3.10.1\n",
      "  Downloading APScheduler-3.10.1-py3-none-any.whl (59 kB)\n",
      "     ---------------------------------------- 59.2/59.2 kB ? eta 0:00:00\n",
      "Collecting cython<=3.0.0\n",
      "  Downloading Cython-3.0.0-cp311-cp311-win_amd64.whl (2.8 MB)\n",
      "     ---------------------------------------- 2.8/2.8 MB 14.7 MB/s eta 0:00:00\n",
      "Requirement already satisfied: python-dotenv<=2.0.0 in c:\\users\\ncpc\\desktop\\python311\\lib\\site-packages (from inference) (1.0.1)\n",
      "Collecting fastapi<0.111,>=0.100\n",
      "  Downloading fastapi-0.110.3-py3-none-any.whl (91 kB)\n",
      "     ---------------------------------------- 91.8/91.8 kB ? eta 0:00:00\n",
      "Requirement already satisfied: numpy<=1.26.4 in c:\\users\\ncpc\\desktop\\python311\\lib\\site-packages (from inference) (1.26.3)\n",
      "Collecting opencv-python<=4.8.0.76\n",
      "  Downloading opencv_python-4.8.0.76-cp37-abi3-win_amd64.whl (38.1 MB)\n",
      "     ---------------------------------------- 38.1/38.1 MB 4.6 MB/s eta 0:00:00\n",
      "Collecting piexif<=1.1.3\n",
      "  Downloading piexif-1.1.3-py2.py3-none-any.whl (20 kB)\n",
      "Requirement already satisfied: pillow<11.0 in c:\\users\\ncpc\\desktop\\python311\\lib\\site-packages (from inference) (10.2.0)\n",
      "Collecting prometheus-fastapi-instrumentator<=6.0.0\n",
      "  Downloading prometheus_fastapi_instrumentator-6.0.0-py3-none-any.whl (18 kB)\n",
      "Collecting redis<6.0.0\n",
      "  Downloading redis-5.0.8-py3-none-any.whl (255 kB)\n",
      "     -------------------------------------- 255.6/255.6 kB 5.2 MB/s eta 0:00:00\n",
      "Requirement already satisfied: requests>=2.26.0 in c:\\users\\ncpc\\desktop\\python311\\lib\\site-packages (from inference) (2.32.3)\n",
      "Collecting rich<=13.5.2\n",
      "  Downloading rich-13.5.2-py3-none-any.whl (239 kB)\n",
      "     -------------------------------------- 239.7/239.7 kB 4.9 MB/s eta 0:00:00\n",
      "Requirement already satisfied: supervision<=0.22.0,>=0.20.0 in c:\\users\\ncpc\\desktop\\python311\\lib\\site-packages (from inference) (0.22.0)\n",
      "Collecting pybase64<2.0.0\n",
      "  Downloading pybase64-1.4.0-cp311-cp311-win_amd64.whl (36 kB)\n",
      "Collecting scikit-image>=0.19.0\n",
      "  Downloading scikit_image-0.24.0-cp311-cp311-win_amd64.whl (12.8 MB)\n",
      "     ---------------------------------------- 12.8/12.8 MB 7.0 MB/s eta 0:00:00\n",
      "Requirement already satisfied: requests-toolbelt>=1.0.0 in c:\\users\\ncpc\\desktop\\python311\\lib\\site-packages (from inference) (1.0.0)\n",
      "Collecting wheel>=0.38.1\n",
      "  Downloading wheel-0.44.0-py3-none-any.whl (67 kB)\n",
      "     ---------------------------------------- 67.1/67.1 kB ? eta 0:00:00\n",
      "Collecting setuptools<=72.1.0,>=70.0.0\n",
      "  Downloading setuptools-72.1.0-py3-none-any.whl (2.3 MB)\n",
      "     ---------------------------------------- 2.3/2.3 MB 8.8 MB/s eta 0:00:00\n",
      "Collecting pytest-asyncio<=0.21.1\n",
      "  Downloading pytest_asyncio-0.21.1-py3-none-any.whl (13 kB)\n",
      "Requirement already satisfied: networkx>=3.1 in c:\\users\\ncpc\\desktop\\python311\\lib\\site-packages (from inference) (3.2.1)\n",
      "Collecting pydantic~=2.6\n",
      "  Downloading pydantic-2.8.2-py3-none-any.whl (423 kB)\n",
      "     -------------------------------------- 423.9/423.9 kB 8.8 MB/s eta 0:00:00\n",
      "Collecting pydantic-settings~=2.2\n",
      "  Downloading pydantic_settings-2.4.0-py3-none-any.whl (23 kB)\n",
      "Collecting openai>=1.12.0\n",
      "  Downloading openai-1.42.0-py3-none-any.whl (362 kB)\n",
      "     ------------------------------------- 362.9/362.9 kB 11.4 MB/s eta 0:00:00\n",
      "Collecting structlog>=24.1.0\n",
      "  Downloading structlog-24.4.0-py3-none-any.whl (67 kB)\n",
      "     ---------------------------------------- 67.2/67.2 kB ? eta 0:00:00\n",
      "Collecting zxing-cpp>=2.2.0\n",
      "  Downloading zxing_cpp-2.2.0-cp311-cp311-win_amd64.whl (692 kB)\n",
      "     ------------------------------------- 692.4/692.4 kB 10.8 MB/s eta 0:00:00\n",
      "Collecting boto3<=1.34.123\n",
      "  Downloading boto3-1.34.123-py3-none-any.whl (139 kB)\n",
      "     -------------------------------------- 139.3/139.3 kB 8.1 MB/s eta 0:00:00\n",
      "Requirement already satisfied: typing-extensions>=4.8.0 in c:\\users\\ncpc\\desktop\\python311\\lib\\site-packages (from inference) (4.12.2)\n",
      "Collecting pydot>=2.0.0\n",
      "  Downloading pydot-3.0.1-py3-none-any.whl (22 kB)\n",
      "Collecting shapely<2.1.0,>=2.0.0\n",
      "  Downloading shapely-2.0.6-cp311-cp311-win_amd64.whl (1.4 MB)\n",
      "     ---------------------------------------- 1.4/1.4 MB 10.2 MB/s eta 0:00:00\n",
      "Collecting tldextract~=5.1.2\n",
      "  Downloading tldextract-5.1.2-py3-none-any.whl (97 kB)\n",
      "     ---------------------------------------- 97.6/97.6 kB ? eta 0:00:00\n",
      "Requirement already satisfied: packaging~=24.0 in c:\\users\\ncpc\\desktop\\python311\\lib\\site-packages (from inference) (24.1)\n",
      "Collecting onnxruntime<=1.15.1\n",
      "  Downloading onnxruntime-1.15.1-cp311-cp311-win_amd64.whl (6.7 MB)\n",
      "     ---------------------------------------- 6.7/6.7 MB 8.0 MB/s eta 0:00:00\n",
      "Collecting GPUtil==1.4.0\n",
      "  Downloading GPUtil-1.4.0.tar.gz (5.5 kB)\n",
      "  Preparing metadata (setup.py): started\n",
      "  Preparing metadata (setup.py): finished with status 'done'\n",
      "Collecting requests>=2.26.0\n",
      "  Downloading requests-2.31.0-py3-none-any.whl (62 kB)\n",
      "     ---------------------------------------- 62.6/62.6 kB 3.3 MB/s eta 0:00:00\n",
      "Collecting docker==6.1.3\n",
      "  Downloading docker-6.1.3-py3-none-any.whl (148 kB)\n",
      "     -------------------------------------- 148.1/148.1 kB 4.4 MB/s eta 0:00:00\n",
      "Collecting typer==0.9.0\n",
      "  Downloading typer-0.9.0-py3-none-any.whl (45 kB)\n",
      "     ---------------------------------------- 45.9/45.9 kB 2.4 MB/s eta 0:00:00\n",
      "Collecting skypilot[aws,gcp]==0.5.0\n",
      "  Downloading skypilot-0.5.0-py3-none-any.whl (905 kB)\n",
      "     -------------------------------------- 906.0/906.0 kB 4.4 MB/s eta 0:00:00\n",
      "Requirement already satisfied: PyYAML>=6.0.0 in c:\\users\\ncpc\\desktop\\python311\\lib\\site-packages (from inference) (6.0.2)\n",
      "Requirement already satisfied: tqdm>=4.0.0 in c:\\users\\ncpc\\desktop\\python311\\lib\\site-packages (from inference) (4.66.5)\n",
      "Requirement already satisfied: py-cpuinfo>=9.0.0 in c:\\users\\ncpc\\desktop\\python311\\lib\\site-packages (from inference) (9.0.0)\n",
      "Collecting aiohttp>=3.9.0\n",
      "  Downloading aiohttp-3.10.5-cp311-cp311-win_amd64.whl (379 kB)\n",
      "     -------------------------------------- 379.1/379.1 kB 3.9 MB/s eta 0:00:00\n",
      "Collecting backoff>=2.2.0\n",
      "  Downloading backoff-2.2.1-py3-none-any.whl (15 kB)\n",
      "Collecting dataclasses-json>=0.6.0\n",
      "  Downloading dataclasses_json-0.6.7-py3-none-any.whl (28 kB)\n",
      "Collecting aioresponses>=0.7.6\n",
      "  Downloading aioresponses-0.7.6-py2.py3-none-any.whl (11 kB)\n",
      "Requirement already satisfied: urllib3>=1.26.0 in c:\\users\\ncpc\\desktop\\python311\\lib\\site-packages (from docker==6.1.3->inference) (2.2.2)\n",
      "Requirement already satisfied: websocket-client>=0.32.0 in c:\\users\\ncpc\\desktop\\python311\\lib\\site-packages (from docker==6.1.3->inference) (1.8.0)\n",
      "Requirement already satisfied: pywin32>=304 in c:\\users\\ncpc\\desktop\\python311\\lib\\site-packages (from docker==6.1.3->inference) (306)\n",
      "Collecting cachetools\n",
      "  Downloading cachetools-5.5.0-py3-none-any.whl (9.5 kB)\n",
      "Collecting click>=7.0\n",
      "  Downloading click-8.1.7-py3-none-any.whl (97 kB)\n",
      "     ---------------------------------------- 97.9/97.9 kB 5.5 MB/s eta 0:00:00\n",
      "Requirement already satisfied: colorama in c:\\users\\ncpc\\desktop\\python311\\lib\\site-packages (from skypilot[aws,gcp]==0.5.0->inference) (0.4.6)\n",
      "Collecting cryptography\n",
      "  Downloading cryptography-43.0.0-cp39-abi3-win_amd64.whl (3.1 MB)\n",
      "     ---------------------------------------- 3.1/3.1 MB 4.6 MB/s eta 0:00:00\n",
      "Requirement already satisfied: jinja2>=3.0 in c:\\users\\ncpc\\desktop\\python311\\lib\\site-packages (from skypilot[aws,gcp]==0.5.0->inference) (3.1.4)\n",
      "Requirement already satisfied: jsonschema in c:\\users\\ncpc\\desktop\\python311\\lib\\site-packages (from skypilot[aws,gcp]==0.5.0->inference) (4.23.0)\n",
      "Requirement already satisfied: pandas>=1.3.0 in c:\\users\\ncpc\\desktop\\python311\\lib\\site-packages (from skypilot[aws,gcp]==0.5.0->inference) (2.2.2)\n",
      "Collecting pendulum\n",
      "  Downloading pendulum-3.0.0-cp311-none-win_amd64.whl (293 kB)\n",
      "     -------------------------------------- 293.5/293.5 kB 4.5 MB/s eta 0:00:00\n",
      "Collecting PrettyTable>=2.0.0\n",
      "  Downloading prettytable-3.11.0-py3-none-any.whl (28 kB)\n",
      "Collecting tabulate\n",
      "  Downloading tabulate-0.9.0-py3-none-any.whl (35 kB)\n",
      "Requirement already satisfied: filelock>=3.6.0 in c:\\users\\ncpc\\desktop\\python311\\lib\\site-packages (from skypilot[aws,gcp]==0.5.0->inference) (3.13.1)\n",
      "Requirement already satisfied: psutil in c:\\users\\ncpc\\desktop\\python311\\lib\\site-packages (from skypilot[aws,gcp]==0.5.0->inference) (6.0.0)\n",
      "Collecting pulp\n",
      "  Downloading PuLP-2.9.0-py3-none-any.whl (17.7 MB)\n",
      "     ---------------------------------------- 17.7/17.7 MB 5.4 MB/s eta 0:00:00\n",
      "Collecting urllib3>=1.26.0\n",
      "  Downloading urllib3-1.26.19-py2.py3-none-any.whl (143 kB)\n",
      "     -------------------------------------- 143.9/143.9 kB 8.4 MB/s eta 0:00:00\n",
      "Collecting awscli>=1.27.10\n",
      "  Downloading awscli-1.34.5-py3-none-any.whl (4.5 MB)\n",
      "     ---------------------------------------- 4.5/4.5 MB 6.2 MB/s eta 0:00:00\n",
      "Collecting botocore>=1.29.10\n",
      "  Downloading botocore-1.35.5-py3-none-any.whl (12.5 MB)\n",
      "     ---------------------------------------- 12.5/12.5 MB 7.0 MB/s eta 0:00:00\n",
      "Collecting colorama\n",
      "  Downloading colorama-0.4.4-py2.py3-none-any.whl (16 kB)\n",
      "Collecting google-api-python-client>=2.69.0\n",
      "  Downloading google_api_python_client-2.142.0-py2.py3-none-any.whl (12.2 MB)\n",
      "     ---------------------------------------- 12.2/12.2 MB 7.7 MB/s eta 0:00:00\n",
      "Collecting google-cloud-storage\n",
      "  Downloading google_cloud_storage-2.18.2-py2.py3-none-any.whl (130 kB)\n",
      "     -------------------------------------- 130.5/130.5 kB 8.0 MB/s eta 0:00:00\n",
      "Collecting aiohappyeyeballs>=2.3.0\n",
      "  Downloading aiohappyeyeballs-2.4.0-py3-none-any.whl (12 kB)\n",
      "Collecting aiosignal>=1.1.2\n",
      "  Downloading aiosignal-1.3.1-py3-none-any.whl (7.6 kB)\n",
      "Requirement already satisfied: attrs>=17.3.0 in c:\\users\\ncpc\\desktop\\python311\\lib\\site-packages (from aiohttp>=3.9.0->inference) (24.2.0)\n",
      "Collecting frozenlist>=1.1.1\n",
      "  Downloading frozenlist-1.4.1-cp311-cp311-win_amd64.whl (50 kB)\n",
      "     ---------------------------------------- 50.5/50.5 kB 2.7 MB/s eta 0:00:00\n",
      "Collecting multidict<7.0,>=4.5\n",
      "  Downloading multidict-6.0.5-cp311-cp311-win_amd64.whl (28 kB)\n",
      "Collecting yarl<2.0,>=1.0\n",
      "  Downloading yarl-1.9.4-cp311-cp311-win_amd64.whl (76 kB)\n",
      "     ---------------------------------------- 76.7/76.7 kB ? eta 0:00:00\n",
      "Requirement already satisfied: six>=1.4.0 in c:\\users\\ncpc\\desktop\\python311\\lib\\site-packages (from APScheduler<=3.10.1->inference) (1.16.0)\n",
      "Requirement already satisfied: pytz in c:\\users\\ncpc\\desktop\\python311\\lib\\site-packages (from APScheduler<=3.10.1->inference) (2024.1)\n",
      "Collecting tzlocal!=3.*,>=2.0\n",
      "  Downloading tzlocal-5.2-py3-none-any.whl (17 kB)\n",
      "Collecting botocore>=1.29.10\n",
      "  Downloading botocore-1.34.162-py3-none-any.whl (12.5 MB)\n",
      "     ---------------------------------------- 12.5/12.5 MB 7.7 MB/s eta 0:00:00\n",
      "Collecting jmespath<2.0.0,>=0.7.1\n",
      "  Downloading jmespath-1.0.1-py3-none-any.whl (20 kB)\n",
      "Collecting s3transfer<0.11.0,>=0.10.0\n",
      "  Downloading s3transfer-0.10.2-py3-none-any.whl (82 kB)\n",
      "     ---------------------------------------- 82.7/82.7 kB 4.5 MB/s eta 0:00:00\n",
      "Collecting marshmallow<4.0.0,>=3.18.0\n",
      "  Downloading marshmallow-3.22.0-py3-none-any.whl (49 kB)\n",
      "     ---------------------------------------- 49.3/49.3 kB ? eta 0:00:00\n",
      "Collecting typing-inspect<1,>=0.4.0\n",
      "  Downloading typing_inspect-0.9.0-py3-none-any.whl (8.8 kB)\n",
      "Collecting starlette<0.38.0,>=0.37.2\n",
      "  Downloading starlette-0.37.2-py3-none-any.whl (71 kB)\n",
      "     ---------------------------------------- 71.9/71.9 kB ? eta 0:00:00\n",
      "Collecting coloredlogs\n",
      "  Downloading coloredlogs-15.0.1-py2.py3-none-any.whl (46 kB)\n",
      "     ---------------------------------------- 46.0/46.0 kB 2.2 MB/s eta 0:00:00\n",
      "Collecting flatbuffers\n",
      "  Downloading flatbuffers-24.3.25-py2.py3-none-any.whl (26 kB)\n",
      "Requirement already satisfied: protobuf in c:\\users\\ncpc\\desktop\\python311\\lib\\site-packages (from onnxruntime<=1.15.1->inference) (5.27.3)\n",
      "Requirement already satisfied: sympy in c:\\users\\ncpc\\desktop\\python311\\lib\\site-packages (from onnxruntime<=1.15.1->inference) (1.12)\n",
      "Requirement already satisfied: anyio<5,>=3.5.0 in c:\\users\\ncpc\\desktop\\python311\\lib\\site-packages (from openai>=1.12.0->inference) (4.4.0)\n",
      "Collecting distro<2,>=1.7.0\n",
      "  Downloading distro-1.9.0-py3-none-any.whl (20 kB)\n",
      "Requirement already satisfied: httpx<1,>=0.23.0 in c:\\users\\ncpc\\desktop\\python311\\lib\\site-packages (from openai>=1.12.0->inference) (0.27.0)\n",
      "Collecting jiter<1,>=0.4.0\n",
      "  Downloading jiter-0.5.0-cp311-none-win_amd64.whl (191 kB)\n",
      "     ------------------------------------- 191.0/191.0 kB 12.1 MB/s eta 0:00:00\n",
      "Requirement already satisfied: sniffio in c:\\users\\ncpc\\desktop\\python311\\lib\\site-packages (from openai>=1.12.0->inference) (1.3.1)\n",
      "Requirement already satisfied: prometheus-client<1.0.0,>=0.8.0 in c:\\users\\ncpc\\desktop\\python311\\lib\\site-packages (from prometheus-fastapi-instrumentator<=6.0.0->inference) (0.20.0)\n",
      "Collecting annotated-types>=0.4.0\n",
      "  Downloading annotated_types-0.7.0-py3-none-any.whl (13 kB)\n",
      "Collecting pydantic-core==2.20.1\n",
      "  Downloading pydantic_core-2.20.1-cp311-none-win_amd64.whl (1.9 MB)\n",
      "     ---------------------------------------- 1.9/1.9 MB 6.4 MB/s eta 0:00:00\n",
      "Requirement already satisfied: pyparsing>=3.0.9 in c:\\users\\ncpc\\desktop\\python311\\lib\\site-packages (from pydot>=2.0.0->inference) (3.1.2)\n",
      "Collecting pytest>=7.0.0\n",
      "  Downloading pytest-8.3.2-py3-none-any.whl (341 kB)\n",
      "     -------------------------------------- 341.8/341.8 kB 7.1 MB/s eta 0:00:00\n",
      "Collecting async-timeout>=4.0.3\n",
      "  Downloading async_timeout-4.0.3-py3-none-any.whl (5.7 kB)\n",
      "Requirement already satisfied: charset-normalizer<4,>=2 in c:\\users\\ncpc\\desktop\\python311\\lib\\site-packages (from requests>=2.26.0->inference) (3.3.2)\n",
      "Requirement already satisfied: idna<4,>=2.5 in c:\\users\\ncpc\\desktop\\python311\\lib\\site-packages (from requests>=2.26.0->inference) (3.7)\n",
      "Requirement already satisfied: certifi>=2017.4.17 in c:\\users\\ncpc\\desktop\\python311\\lib\\site-packages (from requests>=2.26.0->inference) (2024.7.4)\n",
      "Collecting markdown-it-py>=2.2.0\n",
      "  Downloading markdown_it_py-3.0.0-py3-none-any.whl (87 kB)\n",
      "     ---------------------------------------- 87.5/87.5 kB ? eta 0:00:00\n",
      "Requirement already satisfied: pygments<3.0.0,>=2.13.0 in c:\\users\\ncpc\\desktop\\python311\\lib\\site-packages (from rich<=13.5.2->inference) (2.18.0)\n",
      "Requirement already satisfied: scipy>=1.9 in c:\\users\\ncpc\\desktop\\python311\\lib\\site-packages (from scikit-image>=0.19.0->inference) (1.14.1)\n",
      "Collecting imageio>=2.33\n",
      "  Downloading imageio-2.35.1-py3-none-any.whl (315 kB)\n",
      "     -------------------------------------- 315.4/315.4 kB 6.5 MB/s eta 0:00:00\n",
      "Collecting tifffile>=2022.8.12\n",
      "  Downloading tifffile-2024.8.24-py3-none-any.whl (225 kB)\n",
      "     ------------------------------------- 225.9/225.9 kB 14.4 MB/s eta 0:00:00\n",
      "Collecting lazy-loader>=0.4\n",
      "  Downloading lazy_loader-0.4-py3-none-any.whl (12 kB)\n",
      "Requirement already satisfied: defusedxml<0.8.0,>=0.7.1 in c:\\users\\ncpc\\desktop\\python311\\lib\\site-packages (from supervision<=0.22.0,>=0.20.0->inference) (0.7.1)\n",
      "Requirement already satisfied: matplotlib>=3.6.0 in c:\\users\\ncpc\\desktop\\python311\\lib\\site-packages (from supervision<=0.22.0,>=0.20.0->inference) (3.9.2)\n",
      "Requirement already satisfied: opencv-python-headless>=4.5.5.64 in c:\\users\\ncpc\\desktop\\python311\\lib\\site-packages (from supervision<=0.22.0,>=0.20.0->inference) (4.10.0.84)\n",
      "Collecting requests-file>=1.4\n",
      "  Downloading requests_file-2.1.0-py2.py3-none-any.whl (4.2 kB)\n",
      "Collecting awscli>=1.27.10\n",
      "  Downloading awscli-1.34.4-py3-none-any.whl (4.5 MB)\n",
      "     ---------------------------------------- 4.5/4.5 MB 7.2 MB/s eta 0:00:00\n",
      "  Downloading awscli-1.34.3-py3-none-any.whl (4.5 MB)\n",
      "     ---------------------------------------- 4.5/4.5 MB 7.5 MB/s eta 0:00:00\n",
      "  Downloading awscli-1.34.2-py3-none-any.whl (4.5 MB)\n",
      "     ---------------------------------------- 4.5/4.5 MB 8.0 MB/s eta 0:00:00\n",
      "  Downloading awscli-1.34.1-py3-none-any.whl (4.5 MB)\n",
      "     ---------------------------------------- 4.5/4.5 MB 8.2 MB/s eta 0:00:00\n",
      "  Downloading awscli-1.34.0-py3-none-any.whl (4.5 MB)\n",
      "     ---------------------------------------- 4.5/4.5 MB 8.4 MB/s eta 0:00:00\n",
      "  Downloading awscli-1.33.44-py3-none-any.whl (4.5 MB)\n",
      "     ---------------------------------------- 4.5/4.5 MB 8.4 MB/s eta 0:00:00\n",
      "Collecting docutils<0.17,>=0.10\n",
      "  Downloading docutils-0.16-py2.py3-none-any.whl (548 kB)\n",
      "     -------------------------------------- 548.2/548.2 kB 8.5 MB/s eta 0:00:00\n",
      "Collecting rsa<4.8,>=3.1.2\n",
      "  Downloading rsa-4.7.2-py3-none-any.whl (34 kB)\n",
      "Requirement already satisfied: python-dateutil<3.0.0,>=2.1 in c:\\users\\ncpc\\desktop\\python311\\lib\\site-packages (from botocore>=1.29.10->skypilot[aws,gcp]==0.5.0->inference) (2.9.0.post0)\n",
      "Collecting httplib2<1.dev0,>=0.19.0\n",
      "  Downloading httplib2-0.22.0-py3-none-any.whl (96 kB)\n",
      "     ---------------------------------------- 96.9/96.9 kB 5.4 MB/s eta 0:00:00\n",
      "Collecting google-auth!=2.24.0,!=2.25.0,<3.0.0.dev0,>=1.32.0\n",
      "  Downloading google_auth-2.34.0-py2.py3-none-any.whl (200 kB)\n",
      "     -------------------------------------- 200.9/200.9 kB 6.1 MB/s eta 0:00:00\n",
      "Collecting google-auth-httplib2<1.0.0,>=0.2.0\n",
      "  Downloading google_auth_httplib2-0.2.0-py2.py3-none-any.whl (9.3 kB)\n",
      "Collecting google-api-core!=2.0.*,!=2.1.*,!=2.2.*,!=2.3.0,<3.0.0.dev0,>=1.31.5\n",
      "  Downloading google_api_core-2.19.1-py3-none-any.whl (139 kB)\n",
      "     -------------------------------------- 139.4/139.4 kB 8.1 MB/s eta 0:00:00\n",
      "Collecting uritemplate<5,>=3.0.1\n",
      "  Downloading uritemplate-4.1.1-py2.py3-none-any.whl (10 kB)\n",
      "Requirement already satisfied: httpcore==1.* in c:\\users\\ncpc\\desktop\\python311\\lib\\site-packages (from httpx<1,>=0.23.0->openai>=1.12.0->inference) (1.0.5)\n",
      "Requirement already satisfied: h11<0.15,>=0.13 in c:\\users\\ncpc\\desktop\\python311\\lib\\site-packages (from httpcore==1.*->httpx<1,>=0.23.0->openai>=1.12.0->inference) (0.14.0)\n",
      "Requirement already satisfied: MarkupSafe>=2.0 in c:\\users\\ncpc\\desktop\\python311\\lib\\site-packages (from jinja2>=3.0->skypilot[aws,gcp]==0.5.0->inference) (2.1.5)\n",
      "Collecting mdurl~=0.1\n",
      "  Downloading mdurl-0.1.2-py3-none-any.whl (10.0 kB)\n",
      "Requirement already satisfied: contourpy>=1.0.1 in c:\\users\\ncpc\\desktop\\python311\\lib\\site-packages (from matplotlib>=3.6.0->supervision<=0.22.0,>=0.20.0->inference) (1.2.1)\n",
      "Requirement already satisfied: cycler>=0.10 in c:\\users\\ncpc\\desktop\\python311\\lib\\site-packages (from matplotlib>=3.6.0->supervision<=0.22.0,>=0.20.0->inference) (0.12.1)\n",
      "Requirement already satisfied: fonttools>=4.22.0 in c:\\users\\ncpc\\desktop\\python311\\lib\\site-packages (from matplotlib>=3.6.0->supervision<=0.22.0,>=0.20.0->inference) (4.53.1)\n",
      "Requirement already satisfied: kiwisolver>=1.3.1 in c:\\users\\ncpc\\desktop\\python311\\lib\\site-packages (from matplotlib>=3.6.0->supervision<=0.22.0,>=0.20.0->inference) (1.4.5)\n",
      "Requirement already satisfied: tzdata>=2022.7 in c:\\users\\ncpc\\desktop\\python311\\lib\\site-packages (from pandas>=1.3.0->skypilot[aws,gcp]==0.5.0->inference) (2024.1)\n",
      "Requirement already satisfied: wcwidth in c:\\users\\ncpc\\desktop\\python311\\lib\\site-packages (from PrettyTable>=2.0.0->skypilot[aws,gcp]==0.5.0->inference) (0.2.13)\n",
      "Collecting iniconfig\n",
      "  Downloading iniconfig-2.0.0-py3-none-any.whl (5.9 kB)\n",
      "Collecting pluggy<2,>=1.5\n",
      "  Downloading pluggy-1.5.0-py3-none-any.whl (20 kB)\n",
      "Collecting mypy-extensions>=0.3.0\n",
      "  Downloading mypy_extensions-1.0.0-py3-none-any.whl (4.7 kB)\n",
      "Collecting humanfriendly>=9.1\n",
      "  Downloading humanfriendly-10.0-py2.py3-none-any.whl (86 kB)\n",
      "     ---------------------------------------- 86.8/86.8 kB 5.1 MB/s eta 0:00:00\n",
      "Requirement already satisfied: cffi>=1.12 in c:\\users\\ncpc\\desktop\\python311\\lib\\site-packages (from cryptography->skypilot[aws,gcp]==0.5.0->inference) (1.17.0)\n",
      "Collecting google-cloud-core<3.0dev,>=2.3.0\n",
      "  Downloading google_cloud_core-2.4.1-py2.py3-none-any.whl (29 kB)\n",
      "Collecting google-resumable-media>=2.7.2\n",
      "  Downloading google_resumable_media-2.7.2-py2.py3-none-any.whl (81 kB)\n",
      "     ---------------------------------------- 81.3/81.3 kB ? eta 0:00:00\n",
      "Collecting google-crc32c<2.0dev,>=1.0\n",
      "  Downloading google_crc32c-1.5.0-cp311-cp311-win_amd64.whl (27 kB)\n",
      "Requirement already satisfied: jsonschema-specifications>=2023.03.6 in c:\\users\\ncpc\\desktop\\python311\\lib\\site-packages (from jsonschema->skypilot[aws,gcp]==0.5.0->inference) (2023.12.1)\n",
      "Requirement already satisfied: referencing>=0.28.4 in c:\\users\\ncpc\\desktop\\python311\\lib\\site-packages (from jsonschema->skypilot[aws,gcp]==0.5.0->inference) (0.35.1)\n",
      "Requirement already satisfied: rpds-py>=0.7.1 in c:\\users\\ncpc\\desktop\\python311\\lib\\site-packages (from jsonschema->skypilot[aws,gcp]==0.5.0->inference) (0.20.0)\n",
      "Collecting time-machine>=2.6.0\n",
      "  Downloading time_machine-2.15.0-cp311-cp311-win_amd64.whl (20 kB)\n",
      "Requirement already satisfied: mpmath>=0.19 in c:\\users\\ncpc\\desktop\\python311\\lib\\site-packages (from sympy->onnxruntime<=1.15.1->inference) (1.3.0)\n",
      "Requirement already satisfied: pycparser in c:\\users\\ncpc\\desktop\\python311\\lib\\site-packages (from cffi>=1.12->cryptography->skypilot[aws,gcp]==0.5.0->inference) (2.22)\n",
      "Collecting googleapis-common-protos<2.0.dev0,>=1.56.2\n",
      "  Downloading googleapis_common_protos-1.63.2-py2.py3-none-any.whl (220 kB)\n",
      "     -------------------------------------- 220.0/220.0 kB 6.8 MB/s eta 0:00:00\n",
      "Collecting proto-plus<2.0.0dev,>=1.22.3\n",
      "  Downloading proto_plus-1.24.0-py3-none-any.whl (50 kB)\n",
      "     ---------------------------------------- 50.1/50.1 kB ? eta 0:00:00\n",
      "Collecting pyasn1-modules>=0.2.1\n",
      "  Downloading pyasn1_modules-0.4.0-py3-none-any.whl (181 kB)\n",
      "     ------------------------------------- 181.2/181.2 kB 11.4 MB/s eta 0:00:00\n",
      "Collecting pyreadline3\n",
      "  Downloading pyreadline3-3.4.1-py3-none-any.whl (95 kB)\n",
      "     ---------------------------------------- 95.2/95.2 kB ? eta 0:00:00\n",
      "Collecting pyasn1>=0.1.3\n",
      "  Downloading pyasn1-0.6.0-py2.py3-none-any.whl (85 kB)\n",
      "     ---------------------------------------- 85.3/85.3 kB ? eta 0:00:00\n",
      "Installing collected packages: pyreadline3, GPUtil, flatbuffers, zxing-cpp, wheel, urllib3, uritemplate, tzlocal, tifffile, tabulate, structlog, shapely, setuptools, pydot, pydantic-core, pybase64, pyasn1, pulp, proto-plus, PrettyTable, pluggy, piexif, opencv-python, mypy-extensions, multidict, mdurl, marshmallow, lazy-loader, jmespath, jiter, iniconfig, imageio, humanfriendly, httplib2, googleapis-common-protos, google-crc32c, frozenlist, docutils, distro, cython, colorama, cachetools, backoff, async-timeout, annotated-types, aiohappyeyeballs, yarl, typing-inspect, time-machine, starlette, scikit-image, rsa, requests, redis, pytest, pydantic, pyasn1-modules, markdown-it-py, google-resumable-media, cryptography, coloredlogs, click, botocore, APScheduler, aiosignal, typer, s3transfer, rich, requests-file, pytest-asyncio, pydantic-settings, pendulum, openai, onnxruntime, google-auth, fastapi, docker, dataclasses-json, aiohttp, tldextract, skypilot, prometheus-fastapi-instrumentator, google-auth-httplib2, google-api-core, boto3, awscli, aioresponses, google-cloud-core, google-api-python-client, google-cloud-storage, inference\n",
      "  Running setup.py install for GPUtil: started\n",
      "  Running setup.py install for GPUtil: finished with status 'done'\n",
      "  Attempting uninstall: urllib3\n",
      "    Found existing installation: urllib3 2.2.2\n",
      "    Uninstalling urllib3-2.2.2:\n",
      "      Successfully uninstalled urllib3-2.2.2\n",
      "  Attempting uninstall: setuptools\n",
      "    Found existing installation: setuptools 65.5.0\n",
      "    Uninstalling setuptools-65.5.0:\n",
      "      Successfully uninstalled setuptools-65.5.0\n",
      "  Attempting uninstall: opencv-python\n",
      "    Found existing installation: opencv-python 4.10.0.84\n",
      "    Uninstalling opencv-python-4.10.0.84:\n",
      "      Successfully uninstalled opencv-python-4.10.0.84\n"
     ]
    },
    {
     "name": "stderr",
     "output_type": "stream",
     "text": [
      "  DEPRECATION: GPUtil is being installed using the legacy 'setup.py install' method, because it does not have a 'pyproject.toml' and the 'wheel' package is not installed. pip 23.1 will enforce this behaviour change. A possible replacement is to enable the '--use-pep517' option. Discussion can be found at https://github.com/pypa/pip/issues/8559\n",
      "ERROR: Could not install packages due to an OSError: [WinError 5] Access is denied: 'C:\\\\Users\\\\NCPC\\\\Desktop\\\\PYTHON311\\\\Lib\\\\site-packages\\\\~v2\\\\cv2.pyd'\n",
      "Consider using the `--user` option or check the permissions.\n",
      "\n",
      "\n",
      "[notice] A new release of pip available: 22.3 -> 24.2\n",
      "[notice] To update, run: python.exe -m pip install --upgrade pip\n"
     ]
    }
   ],
   "source": [
    "!pip install inference"
   ]
  }
 ],
 "metadata": {
  "kernelspec": {
   "display_name": "Python 3 (ipykernel)",
   "language": "python",
   "name": "python3"
  },
  "language_info": {
   "codemirror_mode": {
    "name": "ipython",
    "version": 3
   },
   "file_extension": ".py",
   "mimetype": "text/x-python",
   "name": "python",
   "nbconvert_exporter": "python",
   "pygments_lexer": "ipython3",
   "version": "3.11.0"
  }
 },
 "nbformat": 4,
 "nbformat_minor": 5
}
